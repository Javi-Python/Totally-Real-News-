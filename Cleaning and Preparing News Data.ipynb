{
 "cells": [
  {
   "cell_type": "code",
   "execution_count": null,
   "metadata": {},
   "outputs": [],
   "source": [
    "import pandas as pd\n",
    "import numpy as np\n",
    "import seaborn as sns\n",
    "import matplotlib.pyplot as plt"
   ]
  },
  {
   "cell_type": "code",
   "execution_count": 2,
   "metadata": {},
   "outputs": [
    {
     "name": "stdout",
     "output_type": "stream",
     "text": [
      "Collecting seaborn\n",
      "  Downloading seaborn-0.11.1-py3-none-any.whl (285 kB)\n",
      "\u001b[K     |████████████████████████████████| 285 kB 3.7 MB/s eta 0:00:01\n",
      "\u001b[?25hCollecting matplotlib>=2.2\n",
      "  Downloading matplotlib-3.4.2-cp37-cp37m-macosx_10_9_x86_64.whl (7.2 MB)\n",
      "\u001b[K     |████████████████████████████████| 7.2 MB 16.2 MB/s eta 0:00:01\n",
      "\u001b[?25hRequirement already satisfied: pandas>=0.23 in /Users/javiercabrera/opt/anaconda3/envs/streamlit2/lib/python3.7/site-packages (from seaborn) (1.2.4)\n",
      "Requirement already satisfied: numpy>=1.15 in /Users/javiercabrera/opt/anaconda3/envs/streamlit2/lib/python3.7/site-packages (from seaborn) (1.19.5)\n",
      "Requirement already satisfied: scipy>=1.0 in /Users/javiercabrera/opt/anaconda3/envs/streamlit2/lib/python3.7/site-packages (from seaborn) (1.6.3)\n",
      "Requirement already satisfied: pillow>=6.2.0 in /Users/javiercabrera/opt/anaconda3/envs/streamlit2/lib/python3.7/site-packages (from matplotlib>=2.2->seaborn) (8.2.0)\n",
      "Requirement already satisfied: python-dateutil>=2.7 in /Users/javiercabrera/opt/anaconda3/envs/streamlit2/lib/python3.7/site-packages (from matplotlib>=2.2->seaborn) (2.8.1)\n",
      "Requirement already satisfied: pyparsing>=2.2.1 in /Users/javiercabrera/opt/anaconda3/envs/streamlit2/lib/python3.7/site-packages (from matplotlib>=2.2->seaborn) (2.4.7)\n",
      "Collecting cycler>=0.10\n",
      "  Using cached cycler-0.10.0-py2.py3-none-any.whl (6.5 kB)\n",
      "Collecting kiwisolver>=1.0.1\n",
      "  Using cached kiwisolver-1.3.1-cp37-cp37m-macosx_10_9_x86_64.whl (61 kB)\n",
      "Requirement already satisfied: six in /Users/javiercabrera/opt/anaconda3/envs/streamlit2/lib/python3.7/site-packages (from cycler>=0.10->matplotlib>=2.2->seaborn) (1.15.0)\n",
      "Requirement already satisfied: pytz>=2017.3 in /Users/javiercabrera/opt/anaconda3/envs/streamlit2/lib/python3.7/site-packages (from pandas>=0.23->seaborn) (2021.1)\n",
      "Installing collected packages: kiwisolver, cycler, matplotlib, seaborn\n",
      "Successfully installed cycler-0.10.0 kiwisolver-1.3.1 matplotlib-3.4.2 seaborn-0.11.1\n"
     ]
    }
   ],
   "source": [
    "!pip install seaborn\n"
   ]
  },
  {
   "cell_type": "code",
   "execution_count": 2,
   "metadata": {
    "scrolled": true
   },
   "outputs": [
    {
     "name": "stdout",
     "output_type": "stream",
     "text": [
      "Cleaning and Preparing News Data.ipynb\r\n",
      "\u001b[1m\u001b[36mGPT2-Model-Fakes\u001b[m\u001b[m\r\n",
      "\u001b[1m\u001b[36mGrover-Fakes\u001b[m\u001b[m\r\n",
      "\u001b[1m\u001b[36mNews-DataSet\u001b[m\u001b[m\r\n",
      "\u001b[1m\u001b[36mNotebooks\u001b[m\u001b[m\r\n",
      "README.md\r\n",
      "Screen Shot 2021-05-11 at 9.26.19 PM.png\r\n",
      "Topic Modeling.ipynb\r\n",
      "\u001b[1m\u001b[36mVisualization Dashboards\u001b[m\u001b[m\r\n",
      "\u001b[1m\u001b[36mbest_model\u001b[m\u001b[m\r\n",
      "real_news_lda.html\r\n",
      "real_news_text_lda.html\r\n"
     ]
    }
   ],
   "source": [
    "!ls\n"
   ]
  },
  {
   "cell_type": "markdown",
   "metadata": {},
   "source": [
    "## Compiling Data From Different CSV's"
   ]
  },
  {
   "cell_type": "markdown",
   "metadata": {},
   "source": [
    "we load data from data set of fake news"
   ]
  },
  {
   "cell_type": "code",
   "execution_count": 21,
   "metadata": {},
   "outputs": [],
   "source": [
    "fake = pd.read_csv('./News-DataSet/Fake.csv')"
   ]
  },
  {
   "cell_type": "code",
   "execution_count": 22,
   "metadata": {},
   "outputs": [],
   "source": [
    "fake['label'] = 'FAKE'"
   ]
  },
  {
   "cell_type": "code",
   "execution_count": 23,
   "metadata": {},
   "outputs": [],
   "source": [
    "fake = fake[['title', 'text', 'label']]"
   ]
  },
  {
   "cell_type": "code",
   "execution_count": 37,
   "metadata": {},
   "outputs": [
    {
     "data": {
      "text/plain": [
       "'Many people have raised the alarm regarding the fact that Donald Trump is dangerously close to becoming an autocrat. The thing is, democracies become autocracies right under the people s noses, because they can often look like democracies in the beginning phases. This was explained by Republican David Frum just a couple of months into Donald Trump s presidency, in a piece in The Atlantic called  How to Build an Autocracy. In fact, if you really look critically at what is happening right now   the systematic discrediting of vital institutions such as the free press and the Federal Bureau of Investigation as well the direct weaponization of the Department of Justice in order to go after Trump s former political opponent, 2016 Democratic nominee Hillary Clinton, and you have the makings of an autocracy. We are more than well on our way. Further, one chamber of Congress, the House of Representatives, already has a rogue band of Republicans who are running a parallel investigation to the official Russian collusion investigation, with the explicit intent of undermining and discrediting the idea that Trump could have possibly done anything wrong with the Russians in order to swing the 2016 election in his favor.All of that is just for starters, too. Now, we have Trump making United Nations Ambassador Nikki Haley bully and threaten other countries in the United Nations who voted against Trump s decision to change U.S. policy when it comes to recognition of Jerusalem as the capital of the Jewish State. Well, one expert, who is usually quite measured, has had enough of Trump s autocratic antics: Former CIA Director John O. Brennan. The seasoned spy took to Trump s favorite platform, Twitter, and blasted the decision:Trump Admin threat to retaliate against nations that exercise sovereign right in UN to oppose US position on Jerusalem is beyond outrageous. Shows @realDonaldTrump expects blind loyalty and subservience from everyone qualities usually found in narcissistic, vengeful autocrats.  John O. Brennan (@JohnBrennan) December 21, 2017Director Brennan is correct, of course. Trump is behaving just like an autocrat, and so many people in the nation are asleep when it comes to this dangerous age, in which the greatest threat to democracy and the very fabric of the republic itself is the American president. Fellow Americans, we know the GOP-led Congress will not be the check on Trump that they are supposed to be. It s time to get out and flip the House and possibly the Senate in 2018, and resist in the meantime, if we want to save our country from devolving into something that looks more like Russia or North Korea than the America we have always know. We re already well on our way.Featured image via BRENDAN SMIALOWSKI/AFP/Getty Images'"
      ]
     },
     "execution_count": 37,
     "metadata": {},
     "output_type": "execute_result"
    }
   ],
   "source": [
    "fake.text[8]"
   ]
  },
  {
   "cell_type": "code",
   "execution_count": 25,
   "metadata": {},
   "outputs": [],
   "source": [
    "fake2 = pd.read_csv('./News-DataSet/fake 2.csv')"
   ]
  },
  {
   "cell_type": "code",
   "execution_count": 26,
   "metadata": {},
   "outputs": [],
   "source": [
    "fake2 = fake2[['title', 'text']]"
   ]
  },
  {
   "cell_type": "code",
   "execution_count": 55,
   "metadata": {},
   "outputs": [
    {
     "data": {
      "text/plain": [
       "title    0\n",
       "text     0\n",
       "label    0\n",
       "dtype: int64"
      ]
     },
     "execution_count": 55,
     "metadata": {},
     "output_type": "execute_result"
    }
   ],
   "source": [
    "fake2.isnull().sum()"
   ]
  },
  {
   "cell_type": "code",
   "execution_count": 28,
   "metadata": {},
   "outputs": [],
   "source": [
    "fake2 = fake2.dropna()"
   ]
  },
  {
   "cell_type": "code",
   "execution_count": 29,
   "metadata": {},
   "outputs": [
    {
     "data": {
      "text/plain": [
       "12273"
      ]
     },
     "execution_count": 29,
     "metadata": {},
     "output_type": "execute_result"
    }
   ],
   "source": [
    "len(fake2)"
   ]
  },
  {
   "cell_type": "code",
   "execution_count": 30,
   "metadata": {
    "scrolled": true
   },
   "outputs": [],
   "source": [
    "fake2['label'] = 'FAKE'"
   ]
  },
  {
   "cell_type": "code",
   "execution_count": 133,
   "metadata": {},
   "outputs": [
    {
     "data": {
      "text/plain": [
       "\"Prof. Rafiq Islam Responds to the Vice-Chancellor of the University of Punjab Outlining the Background of the Hall Case at the 2 Shares\\n1 0 0 1\\nDear Vice Chancellor Kamran:\\nSalam from the East coast of Canada.\\nThank you for taking the time to address this important issue regarding Professor Hall. Like yourself, we all have been stunned by the voracity of Dr. Mahon’s action. We used to think academics of certain reputation were above the reach of the tentacles of the Establishment. We all hoped that a president would not resort to such a shameless pandering to a special interest group. However, B’nai Brith is not just a special interest group, it is perhaps the most vindictive organization that has ever received prominence in the west. Allow me to elaborate.\\nYou have correctly identified B’nai Brith to be “behind this movement against shutting down free speech.” While this statement is accurate, this phenomenon of targeting Canadian universities and Canadian society is not something that started now. Not too long ago, it used to be branded as ‘the hidden hand behind the hidden hand’. During the Harper era, this operation became a full-blown politically driven policy directive. The legislation that Dr. Mahon pathetically relies upon is a product of the Harper era. Harper had an extremist right-wing background and organizations like B’nai Brith have channelled that extremism to accomplish their hateful agenda. As early as the 1980s, I personally observed the spirit of this unholy union during my tenure as the president of Muslim Student Association at the University of Alberta. Although Harper didn’t attend that university, we were not too far from the epicentre of the neo-conservatism movement that was brewing in Canada. We fast-forward 30 years and come upon the type of events such as Professor Hall travesty that are products of that time. In fact, a web of such operations has been in full force for sometime in every aspect of Canadian lives. Only recently, we had this court ruling against Canadian Security Intelligence Service that was illegally spying on the public. This gangster-like involvement started in 2006, shortly after Harper and the neocon came to power.\\nThis is not to say that the public is protected from such unconscionable manoeuvring under a liberal government. In fact, the most notorious scandals involving government and human rights have erupted during the liberal regime. Take for instance the case of Omar Khadr travesty .\\nMORE... Creating an Anti-Muslim Bias at a Canadian University Suspension of Tenured Professor Lacks Due Diligence Toxic Mind Control Contaminates The Public Sphere Irish human rights activists against freedom of speech? This case is something we had known, albeit too late to intervene at the time, and has been subsequently discredited publicly, even during the Harper regime . The overwhelming theme was pointed out by then barely 16 year old, Omar Khadr, who said, “ You don’t care about me ”. This is what defines the mindset of these people, bent on extremism over extremism to subdue public conscience.\\nThe attack on Professor Hall was particularly toxic, but equally sinister attacks have taken place before. Some decade ago, now defunct Canadian Islamic Congress faced onslaught from all sides based on planted stories and baited manoeuvring. It was the largest Muslim Organization at a time Canadian Muslims became the largest religious minority. One particular episode involved B’nai Brith’s planted story involving a University professor, who became the target of hate crime, while at the same time investigated for hate crime. If it wasn’t for the humane and civic behaviour of the then University president (current Governor General), David Johnston, it would have become career threatening, if not life threatening event of the professor. Top university personnel told me in private how the university faced pressure from ‘donors’ that wanted that professor to disappear from the academic as well as public arena. The vendetta of this sort beggars belief even today. What we don’t know is how many of these assaults on conscience took place and has been brewing.\\nClearly, some of the faithful members/sympathizers apply it publicly. Such was the case of former professor turned politician, Irwin Cotler, who routinely infected the political arena with his prejudice and bias imported from the academia. Then there are others, such as Alan Rock of University of Ottawa that implanted manoeuvring of the political arena to the academia. A third group would be Lorna Marsden of York University that abused authority to run a vindictive agenda. Yet, others have found every other way possible to target a person of conscience all the meanwhile covering up all trails so the victim cannot point a finger to the attacker and has no recourse to justice or self defence. It doesn’t matter which category they belong to, they all produce scandals and drag down the good name of the academia while agencies that are supposed to be uphold the rights and dignity of the academia stand by and, for some cases, join in to the atrocity. This obscene attack on human rights and academic decency was once brought to light by late Professor David Noble, who ended up suing York University and Canadian Jewish Congress jointly for conspiring against him. Professor Noble, a Jew himself, faced the vilest of subjugation by organizations claiming to promote the rights of Jews. That wasn’t enough, Dr. Noble had to take on Human Rights Commission and other agencies that stood by either in complicity or in collusion with the University authority. Professor Noble passed away before the lawsuit could see a day in court but soon University of Ottawa would come in the picture with the infamous involvement of Alan Rock, a man without a PhD that was at the helm of the University. Mr. Rock recently left the University—but not before leaving the University’s good name in the sewerage of politicking. What Dr. Mahon has done is bring this insidious modus operandi to yet another victim.\\nHad I not have the misfortune of being on the wrong side of this modus operandi in the last 30 years, I would almost not understand what is at works here. In old days, such tactic would be unheard-of in a University. Certainly, such things couldn’t happen in a civilized country, I would exclaim.\\nSo, what happened to Professor Hall is not new. What is new is the waking up of the general public. Your letter reverberates the emotion of everyone with conscience that came to know about Professor Hall. People are waking up and are beginning to ask for justice. For instance, in the context of CSIS, an activist, Jim Comeau wrote, “I would say it's time to jail the highest ranking CSIS to send a clear message to the rest of them, do something illegal, straight to prison. They damn well knew what they were doing was illegal.”\\nThe People’s revulsion to such atrocious maligning of people of conscience was summed up in recent letter of Julian Assange, who wrote on US General election day (November 8, 2016):\\n“Yet, some weeks ago, in a tactic reminiscent of Senator McCarthy and the red scare, Wikileaks, Green Party candidate Stein, Glenn Greenwald and Clinton’s main opponent were painted with a broad, red brush. The Clinton campaign, when they were not spreading obvious untruths, pointed to unnamed sources or to speculative and vague statements from the intelligence community to suggest a nefarious allegiance with Russia. The campaign was unable to invoke evidence about our publications—because none exists.\\nIn the end, those who have attempted to malign our groundbreaking work over the past four months seek to inhibit public understanding perhaps because it is embarrassing to them – a reason for censorship the First Amendment cannot tolerate. Only unsuccessfully do they try to claim that our publications are inaccurate.”\\nOf course, recent events have allowed us to see this in the highest level of politics in the United States.\\nTo anyone with an iota of conscience, there is no mystery here. People are making their voice clearly known. In the words of Claire Lanyado, “I prefer unpredictable to criminal and evil.” The problem is, when a president of University for whatever reason decides to use his position to serve the special interest group deliberately, there is no recourse for a professor to fight him/her. In other cases, if such atrocity were launched against a student (e.g. the case of Freeman-Maloy vs. Lorna Marsden of York University ), the student, an anti-Zionist Jew, could bring a lawsuit of misfeasance in public office with the help of yet another Jewish lawyer, Peter Rosenthal (who himself is a University professor of Mathematics). It was struck down by the court, and then it was overruled by the court of appeals. At the end, the University settled and Dr. Marsden, the embattled President was gone. The morale of this story is, the path to justice is steep, but for a professor, the path to justice is becoming impossible.\\nThe irony is that it is the people harboring so much hate who tell others that they are committing hate crimes, just because they dare speak out against an atrocity. Of course, they pick their targets that are perceived as weak and vulnerable and they attack the target only after making sure that the target cannot run to anyone for justice.\\nThat’s how extremism works.\\n Sincerely,\\nRafiq Islam\""
      ]
     },
     "execution_count": 133,
     "metadata": {},
     "output_type": "execute_result"
    }
   ],
   "source": [
    "fake2.text[435]"
   ]
  },
  {
   "cell_type": "code",
   "execution_count": 14,
   "metadata": {},
   "outputs": [],
   "source": [
    "fake = pd.concat(objs = [fake, fake2], axis = 0)"
   ]
  },
  {
   "cell_type": "code",
   "execution_count": 15,
   "metadata": {},
   "outputs": [],
   "source": [
    "fake.reset_index(drop=True, inplace=True)"
   ]
  },
  {
   "cell_type": "code",
   "execution_count": 192,
   "metadata": {},
   "outputs": [
    {
     "data": {
      "text/plain": [
       "'Judging by how disastrous Donald Trump s first overseas trip went, it couldn t have been any more clear that Trump is not physically fit enough to deal with the exhausting demands of being president. He lacked the stamina and energy, as he was reportedly exhausted by the second day and he even had to make use of a golf cart to follow behind other world leaders as they walked.This was truly humiliating for Trump, especially after spending his entire presidential campaign insulting Democratic rival Hillary Clinton s stamina   even though she has traveled extensively during her time as Secretary of State and worked tirelessly on her presidential campaign despite having pneumonia. Yet, Fox News is choosing to ignore the obvious and decided to defend Trump, which was absolutely ridiculous.On Wednesday, Fox News host Jon Scott stated that because Trump has the energy to tweet incoherent thoughts at night, he truly has the  stamina to be president.  Yes, really.After midnight, Trump had sent out a tweet whining about  the constant negative press covfefe.  This obviously went viral for its insanity, and Trump eventually followed it up with another weird tweet in the early hours of the morning:Trump is obviously losing his mind, but Fox News believes that as long as he can tweet, Trump is good enough to lead the country. Scott commended this unpresidential behavior and argued: People are enjoying it, you ve got to give him that. It was a big issue during the campaign. He often accused Hillary Clinton of not having the energy, the stamina to be president. So, he was up tweeting at 12:06 a.m., even if it wasn t exactly a, well, coherent tweet. And then at 5:00 a.m., he deleted it. So, I guess the president is, as he said, a man who needs only a few hours sleep. At any rate, he got 126,000 retweets and 160,000 likes for  covfefe. Absolutely disgusting. No wonder Trump likes Fox so much. You can watch below:Featured image via Pool / Getty Images'"
      ]
     },
     "execution_count": 192,
     "metadata": {},
     "output_type": "execute_result"
    }
   ],
   "source": [
    "fake.text[1316]"
   ]
  },
  {
   "cell_type": "markdown",
   "metadata": {},
   "source": [
    "#### Dealing with Real News"
   ]
  },
  {
   "cell_type": "code",
   "execution_count": 5,
   "metadata": {},
   "outputs": [],
   "source": [
    "real = pd.read_csv('./News-DataSet/True.csv')"
   ]
  },
  {
   "cell_type": "code",
   "execution_count": 6,
   "metadata": {},
   "outputs": [],
   "source": [
    "real['label'] = 'REAL'"
   ]
  },
  {
   "cell_type": "code",
   "execution_count": 7,
   "metadata": {},
   "outputs": [],
   "source": [
    "real = real[['title', 'text', 'label']]"
   ]
  },
  {
   "cell_type": "code",
   "execution_count": 8,
   "metadata": {},
   "outputs": [
    {
     "data": {
      "text/html": [
       "<div>\n",
       "<style scoped>\n",
       "    .dataframe tbody tr th:only-of-type {\n",
       "        vertical-align: middle;\n",
       "    }\n",
       "\n",
       "    .dataframe tbody tr th {\n",
       "        vertical-align: top;\n",
       "    }\n",
       "\n",
       "    .dataframe thead th {\n",
       "        text-align: right;\n",
       "    }\n",
       "</style>\n",
       "<table border=\"1\" class=\"dataframe\">\n",
       "  <thead>\n",
       "    <tr style=\"text-align: right;\">\n",
       "      <th></th>\n",
       "      <th>title</th>\n",
       "      <th>text</th>\n",
       "      <th>label</th>\n",
       "    </tr>\n",
       "  </thead>\n",
       "  <tbody>\n",
       "    <tr>\n",
       "      <th>0</th>\n",
       "      <td>As U.S. budget fight looms, Republicans flip t...</td>\n",
       "      <td>WASHINGTON (Reuters) - The head of a conservat...</td>\n",
       "      <td>REAL</td>\n",
       "    </tr>\n",
       "    <tr>\n",
       "      <th>1</th>\n",
       "      <td>U.S. military to accept transgender recruits o...</td>\n",
       "      <td>WASHINGTON (Reuters) - Transgender people will...</td>\n",
       "      <td>REAL</td>\n",
       "    </tr>\n",
       "    <tr>\n",
       "      <th>2</th>\n",
       "      <td>Senior U.S. Republican senator: 'Let Mr. Muell...</td>\n",
       "      <td>WASHINGTON (Reuters) - The special counsel inv...</td>\n",
       "      <td>REAL</td>\n",
       "    </tr>\n",
       "    <tr>\n",
       "      <th>3</th>\n",
       "      <td>FBI Russia probe helped by Australian diplomat...</td>\n",
       "      <td>WASHINGTON (Reuters) - Trump campaign adviser ...</td>\n",
       "      <td>REAL</td>\n",
       "    </tr>\n",
       "    <tr>\n",
       "      <th>4</th>\n",
       "      <td>Trump wants Postal Service to charge 'much mor...</td>\n",
       "      <td>SEATTLE/WASHINGTON (Reuters) - President Donal...</td>\n",
       "      <td>REAL</td>\n",
       "    </tr>\n",
       "    <tr>\n",
       "      <th>...</th>\n",
       "      <td>...</td>\n",
       "      <td>...</td>\n",
       "      <td>...</td>\n",
       "    </tr>\n",
       "    <tr>\n",
       "      <th>21412</th>\n",
       "      <td>'Fully committed' NATO backs new U.S. approach...</td>\n",
       "      <td>BRUSSELS (Reuters) - NATO allies on Tuesday we...</td>\n",
       "      <td>REAL</td>\n",
       "    </tr>\n",
       "    <tr>\n",
       "      <th>21413</th>\n",
       "      <td>LexisNexis withdrew two products from Chinese ...</td>\n",
       "      <td>LONDON (Reuters) - LexisNexis, a provider of l...</td>\n",
       "      <td>REAL</td>\n",
       "    </tr>\n",
       "    <tr>\n",
       "      <th>21414</th>\n",
       "      <td>Minsk cultural hub becomes haven from authorities</td>\n",
       "      <td>MINSK (Reuters) - In the shadow of disused Sov...</td>\n",
       "      <td>REAL</td>\n",
       "    </tr>\n",
       "    <tr>\n",
       "      <th>21415</th>\n",
       "      <td>Vatican upbeat on possibility of Pope Francis ...</td>\n",
       "      <td>MOSCOW (Reuters) - Vatican Secretary of State ...</td>\n",
       "      <td>REAL</td>\n",
       "    </tr>\n",
       "    <tr>\n",
       "      <th>21416</th>\n",
       "      <td>Indonesia to buy $1.14 billion worth of Russia...</td>\n",
       "      <td>JAKARTA (Reuters) - Indonesia will buy 11 Sukh...</td>\n",
       "      <td>REAL</td>\n",
       "    </tr>\n",
       "  </tbody>\n",
       "</table>\n",
       "<p>21417 rows × 3 columns</p>\n",
       "</div>"
      ],
      "text/plain": [
       "                                                   title  \\\n",
       "0      As U.S. budget fight looms, Republicans flip t...   \n",
       "1      U.S. military to accept transgender recruits o...   \n",
       "2      Senior U.S. Republican senator: 'Let Mr. Muell...   \n",
       "3      FBI Russia probe helped by Australian diplomat...   \n",
       "4      Trump wants Postal Service to charge 'much mor...   \n",
       "...                                                  ...   \n",
       "21412  'Fully committed' NATO backs new U.S. approach...   \n",
       "21413  LexisNexis withdrew two products from Chinese ...   \n",
       "21414  Minsk cultural hub becomes haven from authorities   \n",
       "21415  Vatican upbeat on possibility of Pope Francis ...   \n",
       "21416  Indonesia to buy $1.14 billion worth of Russia...   \n",
       "\n",
       "                                                    text label  \n",
       "0      WASHINGTON (Reuters) - The head of a conservat...  REAL  \n",
       "1      WASHINGTON (Reuters) - Transgender people will...  REAL  \n",
       "2      WASHINGTON (Reuters) - The special counsel inv...  REAL  \n",
       "3      WASHINGTON (Reuters) - Trump campaign adviser ...  REAL  \n",
       "4      SEATTLE/WASHINGTON (Reuters) - President Donal...  REAL  \n",
       "...                                                  ...   ...  \n",
       "21412  BRUSSELS (Reuters) - NATO allies on Tuesday we...  REAL  \n",
       "21413  LONDON (Reuters) - LexisNexis, a provider of l...  REAL  \n",
       "21414  MINSK (Reuters) - In the shadow of disused Sov...  REAL  \n",
       "21415  MOSCOW (Reuters) - Vatican Secretary of State ...  REAL  \n",
       "21416  JAKARTA (Reuters) - Indonesia will buy 11 Sukh...  REAL  \n",
       "\n",
       "[21417 rows x 3 columns]"
      ]
     },
     "execution_count": 8,
     "metadata": {},
     "output_type": "execute_result"
    }
   ],
   "source": [
    "real"
   ]
  },
  {
   "cell_type": "code",
   "execution_count": 9,
   "metadata": {},
   "outputs": [],
   "source": [
    "real2 = pd.read_csv('./News-DataSet/articles3.csv').drop(['Unnamed: 0'],axis=1)"
   ]
  },
  {
   "cell_type": "code",
   "execution_count": 10,
   "metadata": {},
   "outputs": [],
   "source": [
    "real2['text'] = real2['content']"
   ]
  },
  {
   "cell_type": "code",
   "execution_count": 11,
   "metadata": {},
   "outputs": [],
   "source": [
    "real2['label'] = 'REAL'"
   ]
  },
  {
   "cell_type": "code",
   "execution_count": 12,
   "metadata": {},
   "outputs": [],
   "source": [
    "real2 = real2.drop('content', axis = 1)"
   ]
  },
  {
   "cell_type": "code",
   "execution_count": 13,
   "metadata": {
    "scrolled": true
   },
   "outputs": [],
   "source": [
    "real2 = real2[['title', 'text', 'label']]"
   ]
  },
  {
   "cell_type": "code",
   "execution_count": 14,
   "metadata": {},
   "outputs": [],
   "source": [
    "real = pd.concat(objs = [real, real2], axis = 0)"
   ]
  },
  {
   "cell_type": "code",
   "execution_count": 15,
   "metadata": {},
   "outputs": [
    {
     "data": {
      "text/plain": [
       "0    As U.S. budget fight looms, Republicans flip t...\n",
       "0    Alton Sterling’s son: ’Everyone needs to prote...\n",
       "Name: title, dtype: object"
      ]
     },
     "execution_count": 15,
     "metadata": {},
     "output_type": "execute_result"
    }
   ],
   "source": [
    "real.title[0]"
   ]
  },
  {
   "cell_type": "code",
   "execution_count": 16,
   "metadata": {},
   "outputs": [],
   "source": [
    "real.reset_index(drop=True, inplace=True)"
   ]
  },
  {
   "cell_type": "code",
   "execution_count": 17,
   "metadata": {},
   "outputs": [
    {
     "data": {
      "text/html": [
       "<div>\n",
       "<style scoped>\n",
       "    .dataframe tbody tr th:only-of-type {\n",
       "        vertical-align: middle;\n",
       "    }\n",
       "\n",
       "    .dataframe tbody tr th {\n",
       "        vertical-align: top;\n",
       "    }\n",
       "\n",
       "    .dataframe thead th {\n",
       "        text-align: right;\n",
       "    }\n",
       "</style>\n",
       "<table border=\"1\" class=\"dataframe\">\n",
       "  <thead>\n",
       "    <tr style=\"text-align: right;\">\n",
       "      <th></th>\n",
       "      <th>title</th>\n",
       "      <th>text</th>\n",
       "      <th>label</th>\n",
       "    </tr>\n",
       "  </thead>\n",
       "  <tbody>\n",
       "    <tr>\n",
       "      <th>0</th>\n",
       "      <td>As U.S. budget fight looms, Republicans flip t...</td>\n",
       "      <td>WASHINGTON (Reuters) - The head of a conservat...</td>\n",
       "      <td>REAL</td>\n",
       "    </tr>\n",
       "    <tr>\n",
       "      <th>1</th>\n",
       "      <td>U.S. military to accept transgender recruits o...</td>\n",
       "      <td>WASHINGTON (Reuters) - Transgender people will...</td>\n",
       "      <td>REAL</td>\n",
       "    </tr>\n",
       "    <tr>\n",
       "      <th>2</th>\n",
       "      <td>Senior U.S. Republican senator: 'Let Mr. Muell...</td>\n",
       "      <td>WASHINGTON (Reuters) - The special counsel inv...</td>\n",
       "      <td>REAL</td>\n",
       "    </tr>\n",
       "    <tr>\n",
       "      <th>3</th>\n",
       "      <td>FBI Russia probe helped by Australian diplomat...</td>\n",
       "      <td>WASHINGTON (Reuters) - Trump campaign adviser ...</td>\n",
       "      <td>REAL</td>\n",
       "    </tr>\n",
       "    <tr>\n",
       "      <th>4</th>\n",
       "      <td>Trump wants Postal Service to charge 'much mor...</td>\n",
       "      <td>SEATTLE/WASHINGTON (Reuters) - President Donal...</td>\n",
       "      <td>REAL</td>\n",
       "    </tr>\n",
       "    <tr>\n",
       "      <th>...</th>\n",
       "      <td>...</td>\n",
       "      <td>...</td>\n",
       "      <td>...</td>\n",
       "    </tr>\n",
       "    <tr>\n",
       "      <th>63983</th>\n",
       "      <td>An eavesdropping Uber driver saved his 16-year...</td>\n",
       "      <td>Uber driver Keith Avila picked up a p...</td>\n",
       "      <td>REAL</td>\n",
       "    </tr>\n",
       "    <tr>\n",
       "      <th>63984</th>\n",
       "      <td>Plane carrying six people returning from a Cav...</td>\n",
       "      <td>Crews on Friday continued to search L...</td>\n",
       "      <td>REAL</td>\n",
       "    </tr>\n",
       "    <tr>\n",
       "      <th>63985</th>\n",
       "      <td>After helping a fraction of homeowners expecte...</td>\n",
       "      <td>When the Obama administration announced a...</td>\n",
       "      <td>REAL</td>\n",
       "    </tr>\n",
       "    <tr>\n",
       "      <th>63986</th>\n",
       "      <td>Yes, this is real: Michigan just banned bannin...</td>\n",
       "      <td>This story has been updated. A new law in...</td>\n",
       "      <td>REAL</td>\n",
       "    </tr>\n",
       "    <tr>\n",
       "      <th>63987</th>\n",
       "      <td>What happened in Washington state after voters...</td>\n",
       "      <td>The nation’s first recreational marijuana...</td>\n",
       "      <td>REAL</td>\n",
       "    </tr>\n",
       "  </tbody>\n",
       "</table>\n",
       "<p>63988 rows × 3 columns</p>\n",
       "</div>"
      ],
      "text/plain": [
       "                                                   title  \\\n",
       "0      As U.S. budget fight looms, Republicans flip t...   \n",
       "1      U.S. military to accept transgender recruits o...   \n",
       "2      Senior U.S. Republican senator: 'Let Mr. Muell...   \n",
       "3      FBI Russia probe helped by Australian diplomat...   \n",
       "4      Trump wants Postal Service to charge 'much mor...   \n",
       "...                                                  ...   \n",
       "63983  An eavesdropping Uber driver saved his 16-year...   \n",
       "63984  Plane carrying six people returning from a Cav...   \n",
       "63985  After helping a fraction of homeowners expecte...   \n",
       "63986  Yes, this is real: Michigan just banned bannin...   \n",
       "63987  What happened in Washington state after voters...   \n",
       "\n",
       "                                                    text label  \n",
       "0      WASHINGTON (Reuters) - The head of a conservat...  REAL  \n",
       "1      WASHINGTON (Reuters) - Transgender people will...  REAL  \n",
       "2      WASHINGTON (Reuters) - The special counsel inv...  REAL  \n",
       "3      WASHINGTON (Reuters) - Trump campaign adviser ...  REAL  \n",
       "4      SEATTLE/WASHINGTON (Reuters) - President Donal...  REAL  \n",
       "...                                                  ...   ...  \n",
       "63983           Uber driver Keith Avila picked up a p...  REAL  \n",
       "63984           Crews on Friday continued to search L...  REAL  \n",
       "63985       When the Obama administration announced a...  REAL  \n",
       "63986       This story has been updated. A new law in...  REAL  \n",
       "63987       The nation’s first recreational marijuana...  REAL  \n",
       "\n",
       "[63988 rows x 3 columns]"
      ]
     },
     "execution_count": 17,
     "metadata": {},
     "output_type": "execute_result"
    }
   ],
   "source": [
    "real"
   ]
  },
  {
   "cell_type": "markdown",
   "metadata": {},
   "source": [
    "We load data from combined data set of real and fake news"
   ]
  },
  {
   "cell_type": "code",
   "execution_count": 49,
   "metadata": {},
   "outputs": [],
   "source": [
    "news = pd.read_csv('./News-DataSet/news.csv')"
   ]
  },
  {
   "cell_type": "code",
   "execution_count": 50,
   "metadata": {},
   "outputs": [],
   "source": [
    "news = news.drop('Unnamed: 0', axis = 1)"
   ]
  },
  {
   "cell_type": "code",
   "execution_count": 174,
   "metadata": {
    "scrolled": true
   },
   "outputs": [
    {
     "data": {
      "text/plain": [
       "'Speaking at a joint press conference Thursday morning at the White House with Canadian Prime Minister Justin Trudeau, President Obama makes extended comments regarding the 2016 election, and its unprecedented political polarization. \\n\\n \\n\\n \"I have been blamed by the Republicans for a lot of things,\" the president said. \"But to be blamed for their primaries and who they are selecting is... novel.\"\\n\\n \\n\\n \"I’m not going to validate some notion that the Republican crackup that’s been taking place is a consequence of actions that I’ve taken,\" he said. \\n\\n \\n\\n \"I don’t think I was the one to prompt questions about my birth certificate, for example,\" he said. \"I don’t recall saying, \\'Hey, why don’t you ask me about that.\\'\"\\n\\n \\n\\n \"It\\'s not as if there\\'s a massive difference between Mr. Trump\\'s position on immigration and Mr. Cruz\\'s. Mr. Trump may be more provocative in terms of how he sighs, but says them, but they\\'re not that different.\"\\n\\n \\n\\n'"
      ]
     },
     "execution_count": 174,
     "metadata": {},
     "output_type": "execute_result"
    }
   ],
   "source": [
    "news.text[1652]"
   ]
  },
  {
   "cell_type": "markdown",
   "metadata": {},
   "source": [
    "We notice there are some differences in the Fake and Real datasets that could make our labeling algorithm take an easy route for labeling. We must clean the data so that the formating differences in both data sets are unrecognizable. We will try and format data like the 'news' data set."
   ]
  },
  {
   "cell_type": "markdown",
   "metadata": {},
   "source": [
    "##### Diferences that could make the algorithms job too easy\n",
    "\n",
    "- The real data vs fake datasets contain different subject labels, this could make the algoirthm take the easy route of just using the subject label to discern between real and fake. \n",
    "\n",
    "- The capitalization is different between the fake and real data set\n",
    "\n",
    "- the text for the real text contains as first words the outlet name and location"
   ]
  },
  {
   "cell_type": "markdown",
   "metadata": {},
   "source": [
    "### Creating a function that formats titles in both data sets the same way.\n",
    "\n"
   ]
  },
  {
   "cell_type": "code",
   "execution_count": 36,
   "metadata": {
    "scrolled": true
   },
   "outputs": [
    {
     "data": {
      "text/plain": [
       "' Donald Trump Sends Out Embarrassing New Year’s Eve Message; This is Disturbing'"
      ]
     },
     "execution_count": 36,
     "metadata": {},
     "output_type": "execute_result"
    }
   ],
   "source": [
    "fake.title[0]"
   ]
  },
  {
   "cell_type": "code",
   "execution_count": null,
   "metadata": {},
   "outputs": [],
   "source": [
    "#we apply the python title function to our fake dataset."
   ]
  },
  {
   "cell_type": "code",
   "execution_count": 37,
   "metadata": {},
   "outputs": [],
   "source": [
    "fake_title = fake"
   ]
  },
  {
   "cell_type": "code",
   "execution_count": 38,
   "metadata": {},
   "outputs": [],
   "source": [
    "fake_title['title'] = fake_title['title'].str.title()"
   ]
  },
  {
   "cell_type": "code",
   "execution_count": 39,
   "metadata": {},
   "outputs": [
    {
     "data": {
      "text/html": [
       "<div>\n",
       "<style scoped>\n",
       "    .dataframe tbody tr th:only-of-type {\n",
       "        vertical-align: middle;\n",
       "    }\n",
       "\n",
       "    .dataframe tbody tr th {\n",
       "        vertical-align: top;\n",
       "    }\n",
       "\n",
       "    .dataframe thead th {\n",
       "        text-align: right;\n",
       "    }\n",
       "</style>\n",
       "<table border=\"1\" class=\"dataframe\">\n",
       "  <thead>\n",
       "    <tr style=\"text-align: right;\">\n",
       "      <th></th>\n",
       "      <th>title</th>\n",
       "      <th>text</th>\n",
       "      <th>label</th>\n",
       "    </tr>\n",
       "  </thead>\n",
       "  <tbody>\n",
       "    <tr>\n",
       "      <th>0</th>\n",
       "      <td>Donald Trump Sends Out Embarrassing New Year’...</td>\n",
       "      <td>Donald Trump just couldn t wish all Americans ...</td>\n",
       "      <td>FAKE</td>\n",
       "    </tr>\n",
       "    <tr>\n",
       "      <th>1</th>\n",
       "      <td>Drunk Bragging Trump Staffer Started Russian ...</td>\n",
       "      <td>House Intelligence Committee Chairman Devin Nu...</td>\n",
       "      <td>FAKE</td>\n",
       "    </tr>\n",
       "    <tr>\n",
       "      <th>2</th>\n",
       "      <td>Sheriff David Clarke Becomes An Internet Joke...</td>\n",
       "      <td>On Friday, it was revealed that former Milwauk...</td>\n",
       "      <td>FAKE</td>\n",
       "    </tr>\n",
       "    <tr>\n",
       "      <th>3</th>\n",
       "      <td>Trump Is So Obsessed He Even Has Obama’S Name...</td>\n",
       "      <td>On Christmas day, Donald Trump announced that ...</td>\n",
       "      <td>FAKE</td>\n",
       "    </tr>\n",
       "    <tr>\n",
       "      <th>4</th>\n",
       "      <td>Pope Francis Just Called Out Donald Trump Dur...</td>\n",
       "      <td>Pope Francis used his annual Christmas Day mes...</td>\n",
       "      <td>FAKE</td>\n",
       "    </tr>\n",
       "    <tr>\n",
       "      <th>...</th>\n",
       "      <td>...</td>\n",
       "      <td>...</td>\n",
       "      <td>...</td>\n",
       "    </tr>\n",
       "    <tr>\n",
       "      <th>35749</th>\n",
       "      <td>Tesla Earnings Smash Expectations After Dramat...</td>\n",
       "      <td>Oct 26, 2016 4:26 PM 0 SHARES \\nThere was a su...</td>\n",
       "      <td>FAKE</td>\n",
       "    </tr>\n",
       "    <tr>\n",
       "      <th>35750</th>\n",
       "      <td>Rules For Rulers (Or How The World Really Works)</td>\n",
       "      <td>The following video is a must watch, particula...</td>\n",
       "      <td>FAKE</td>\n",
       "    </tr>\n",
       "    <tr>\n",
       "      <th>35751</th>\n",
       "      <td>Fact Check: Trump Is Right That Clinton Might ...</td>\n",
       "      <td>She explains : \\nHillary Clinton wants to star...</td>\n",
       "      <td>FAKE</td>\n",
       "    </tr>\n",
       "    <tr>\n",
       "      <th>35752</th>\n",
       "      <td>Caught On Tape: Isis Destroys Iraqi Abrams Wit...</td>\n",
       "      <td>YHC-FTSE Oct 26, 2016 5:14 PM \\nWould have bee...</td>\n",
       "      <td>FAKE</td>\n",
       "    </tr>\n",
       "    <tr>\n",
       "      <th>35753</th>\n",
       "      <td>Obamacare Architect Admits \"The Law Is Working...</td>\n",
       "      <td>Oct 26, 2016 5:20 PM 0 \\nSubmitted by Joseph J...</td>\n",
       "      <td>FAKE</td>\n",
       "    </tr>\n",
       "  </tbody>\n",
       "</table>\n",
       "<p>35754 rows × 3 columns</p>\n",
       "</div>"
      ],
      "text/plain": [
       "                                                   title  \\\n",
       "0       Donald Trump Sends Out Embarrassing New Year’...   \n",
       "1       Drunk Bragging Trump Staffer Started Russian ...   \n",
       "2       Sheriff David Clarke Becomes An Internet Joke...   \n",
       "3       Trump Is So Obsessed He Even Has Obama’S Name...   \n",
       "4       Pope Francis Just Called Out Donald Trump Dur...   \n",
       "...                                                  ...   \n",
       "35749  Tesla Earnings Smash Expectations After Dramat...   \n",
       "35750   Rules For Rulers (Or How The World Really Works)   \n",
       "35751  Fact Check: Trump Is Right That Clinton Might ...   \n",
       "35752  Caught On Tape: Isis Destroys Iraqi Abrams Wit...   \n",
       "35753  Obamacare Architect Admits \"The Law Is Working...   \n",
       "\n",
       "                                                    text label  \n",
       "0      Donald Trump just couldn t wish all Americans ...  FAKE  \n",
       "1      House Intelligence Committee Chairman Devin Nu...  FAKE  \n",
       "2      On Friday, it was revealed that former Milwauk...  FAKE  \n",
       "3      On Christmas day, Donald Trump announced that ...  FAKE  \n",
       "4      Pope Francis used his annual Christmas Day mes...  FAKE  \n",
       "...                                                  ...   ...  \n",
       "35749  Oct 26, 2016 4:26 PM 0 SHARES \\nThere was a su...  FAKE  \n",
       "35750  The following video is a must watch, particula...  FAKE  \n",
       "35751  She explains : \\nHillary Clinton wants to star...  FAKE  \n",
       "35752  YHC-FTSE Oct 26, 2016 5:14 PM \\nWould have bee...  FAKE  \n",
       "35753  Oct 26, 2016 5:20 PM 0 \\nSubmitted by Joseph J...  FAKE  \n",
       "\n",
       "[35754 rows x 3 columns]"
      ]
     },
     "execution_count": 39,
     "metadata": {},
     "output_type": "execute_result"
    }
   ],
   "source": [
    "fake_title"
   ]
  },
  {
   "cell_type": "code",
   "execution_count": null,
   "metadata": {},
   "outputs": [],
   "source": [
    "# we apply the title function to our real data set"
   ]
  },
  {
   "cell_type": "code",
   "execution_count": 40,
   "metadata": {},
   "outputs": [],
   "source": [
    "real_title = real"
   ]
  },
  {
   "cell_type": "code",
   "execution_count": 41,
   "metadata": {},
   "outputs": [],
   "source": [
    "real_title['title'] = real_title['title'].str.title()"
   ]
  },
  {
   "cell_type": "code",
   "execution_count": 77,
   "metadata": {},
   "outputs": [
    {
     "data": {
      "text/html": [
       "<div>\n",
       "<style scoped>\n",
       "    .dataframe tbody tr th:only-of-type {\n",
       "        vertical-align: middle;\n",
       "    }\n",
       "\n",
       "    .dataframe tbody tr th {\n",
       "        vertical-align: top;\n",
       "    }\n",
       "\n",
       "    .dataframe thead th {\n",
       "        text-align: right;\n",
       "    }\n",
       "</style>\n",
       "<table border=\"1\" class=\"dataframe\">\n",
       "  <thead>\n",
       "    <tr style=\"text-align: right;\">\n",
       "      <th></th>\n",
       "      <th>title</th>\n",
       "      <th>text</th>\n",
       "      <th>label</th>\n",
       "    </tr>\n",
       "  </thead>\n",
       "  <tbody>\n",
       "    <tr>\n",
       "      <th>0</th>\n",
       "      <td>As U.S. Budget Fight Looms, Republicans Flip T...</td>\n",
       "      <td>- The head of a conservative Republican facti...</td>\n",
       "      <td>REAL</td>\n",
       "    </tr>\n",
       "    <tr>\n",
       "      <th>1</th>\n",
       "      <td>U.S. Military To Accept Transgender Recruits O...</td>\n",
       "      <td>- Transgender people will be allowed for the ...</td>\n",
       "      <td>REAL</td>\n",
       "    </tr>\n",
       "    <tr>\n",
       "      <th>2</th>\n",
       "      <td>Senior U.S. Republican Senator: 'Let Mr. Muell...</td>\n",
       "      <td>- The special counsel investigation of links ...</td>\n",
       "      <td>REAL</td>\n",
       "    </tr>\n",
       "    <tr>\n",
       "      <th>3</th>\n",
       "      <td>Fbi Russia Probe Helped By Australian Diplomat...</td>\n",
       "      <td>- Trump campaign adviser George Papadopoulos ...</td>\n",
       "      <td>REAL</td>\n",
       "    </tr>\n",
       "    <tr>\n",
       "      <th>4</th>\n",
       "      <td>Trump Wants Postal Service To Charge 'Much Mor...</td>\n",
       "      <td>- President Donald Trump called on the U.S. P...</td>\n",
       "      <td>REAL</td>\n",
       "    </tr>\n",
       "    <tr>\n",
       "      <th>...</th>\n",
       "      <td>...</td>\n",
       "      <td>...</td>\n",
       "      <td>...</td>\n",
       "    </tr>\n",
       "    <tr>\n",
       "      <th>63983</th>\n",
       "      <td>An Eavesdropping Uber Driver Saved His 16-Year...</td>\n",
       "      <td>Uber driver Keith Avila picked up a p...</td>\n",
       "      <td>REAL</td>\n",
       "    </tr>\n",
       "    <tr>\n",
       "      <th>63984</th>\n",
       "      <td>Plane Carrying Six People Returning From A Cav...</td>\n",
       "      <td>Crews on Friday continued to search L...</td>\n",
       "      <td>REAL</td>\n",
       "    </tr>\n",
       "    <tr>\n",
       "      <th>63985</th>\n",
       "      <td>After Helping A Fraction Of Homeowners Expecte...</td>\n",
       "      <td>When the Obama administration announced a...</td>\n",
       "      <td>REAL</td>\n",
       "    </tr>\n",
       "    <tr>\n",
       "      <th>63986</th>\n",
       "      <td>Yes, This Is Real: Michigan Just Banned Bannin...</td>\n",
       "      <td>This story has been updated. A new law in...</td>\n",
       "      <td>REAL</td>\n",
       "    </tr>\n",
       "    <tr>\n",
       "      <th>63987</th>\n",
       "      <td>What Happened In Washington State After Voters...</td>\n",
       "      <td>The nation’s first recreational marijuana...</td>\n",
       "      <td>REAL</td>\n",
       "    </tr>\n",
       "  </tbody>\n",
       "</table>\n",
       "<p>63988 rows × 3 columns</p>\n",
       "</div>"
      ],
      "text/plain": [
       "                                                   title  \\\n",
       "0      As U.S. Budget Fight Looms, Republicans Flip T...   \n",
       "1      U.S. Military To Accept Transgender Recruits O...   \n",
       "2      Senior U.S. Republican Senator: 'Let Mr. Muell...   \n",
       "3      Fbi Russia Probe Helped By Australian Diplomat...   \n",
       "4      Trump Wants Postal Service To Charge 'Much Mor...   \n",
       "...                                                  ...   \n",
       "63983  An Eavesdropping Uber Driver Saved His 16-Year...   \n",
       "63984  Plane Carrying Six People Returning From A Cav...   \n",
       "63985  After Helping A Fraction Of Homeowners Expecte...   \n",
       "63986  Yes, This Is Real: Michigan Just Banned Bannin...   \n",
       "63987  What Happened In Washington State After Voters...   \n",
       "\n",
       "                                                    text label  \n",
       "0       - The head of a conservative Republican facti...  REAL  \n",
       "1       - Transgender people will be allowed for the ...  REAL  \n",
       "2       - The special counsel investigation of links ...  REAL  \n",
       "3       - Trump campaign adviser George Papadopoulos ...  REAL  \n",
       "4       - President Donald Trump called on the U.S. P...  REAL  \n",
       "...                                                  ...   ...  \n",
       "63983           Uber driver Keith Avila picked up a p...  REAL  \n",
       "63984           Crews on Friday continued to search L...  REAL  \n",
       "63985       When the Obama administration announced a...  REAL  \n",
       "63986       This story has been updated. A new law in...  REAL  \n",
       "63987       The nation’s first recreational marijuana...  REAL  \n",
       "\n",
       "[63988 rows x 3 columns]"
      ]
     },
     "execution_count": 77,
     "metadata": {},
     "output_type": "execute_result"
    }
   ],
   "source": [
    "real_title"
   ]
  },
  {
   "cell_type": "markdown",
   "metadata": {},
   "source": [
    "### Cleaning the text column"
   ]
  },
  {
   "cell_type": "code",
   "execution_count": 98,
   "metadata": {},
   "outputs": [],
   "source": [
    "import regex as re"
   ]
  },
  {
   "cell_type": "code",
   "execution_count": 44,
   "metadata": {},
   "outputs": [],
   "source": [
    "regex_expression = r'.*\\(Reuters\\)'"
   ]
  },
  {
   "cell_type": "code",
   "execution_count": 45,
   "metadata": {},
   "outputs": [
    {
     "name": "stderr",
     "output_type": "stream",
     "text": [
      "<ipython-input-45-00dc7ef57046>:1: FutureWarning: The default value of regex will change from True to False in a future version.\n",
      "  real['text'] = real['text'].str.replace(regex_expression, '')\n"
     ]
    }
   ],
   "source": [
    "real['text'] = real['text'].str.replace(regex_expression, '')"
   ]
  },
  {
   "cell_type": "code",
   "execution_count": 1,
   "metadata": {},
   "outputs": [
    {
     "ename": "NameError",
     "evalue": "name 'real' is not defined",
     "output_type": "error",
     "traceback": [
      "\u001b[0;31m---------------------------------------------------------------------------\u001b[0m",
      "\u001b[0;31mNameError\u001b[0m                                 Traceback (most recent call last)",
      "\u001b[0;32m<ipython-input-1-dd3cac7fce5b>\u001b[0m in \u001b[0;36m<module>\u001b[0;34m\u001b[0m\n\u001b[0;32m----> 1\u001b[0;31m \u001b[0mreal\u001b[0m\u001b[0;34m.\u001b[0m\u001b[0mtext\u001b[0m\u001b[0;34m[\u001b[0m\u001b[0;36m1\u001b[0m\u001b[0;34m]\u001b[0m\u001b[0;34m\u001b[0m\u001b[0m\n\u001b[0m",
      "\u001b[0;31mNameError\u001b[0m: name 'real' is not defined"
     ]
    }
   ],
   "source": [
    "real.text[1]"
   ]
  },
  {
   "cell_type": "code",
   "execution_count": 47,
   "metadata": {},
   "outputs": [
    {
     "data": {
      "text/plain": [
       "0         - The head of a conservative Republican facti...\n",
       "1         - Transgender people will be allowed for the ...\n",
       "2         - The special counsel investigation of links ...\n",
       "3         - Trump campaign adviser George Papadopoulos ...\n",
       "4         - President Donald Trump called on the U.S. P...\n",
       "                               ...                        \n",
       "63983             Uber driver Keith Avila picked up a p...\n",
       "63984             Crews on Friday continued to search L...\n",
       "63985         When the Obama administration announced a...\n",
       "63986         This story has been updated. A new law in...\n",
       "63987         The nation’s first recreational marijuana...\n",
       "Name: text, Length: 63988, dtype: object"
      ]
     },
     "execution_count": 47,
     "metadata": {},
     "output_type": "execute_result"
    }
   ],
   "source": [
    "real.text"
   ]
  },
  {
   "cell_type": "code",
   "execution_count": 78,
   "metadata": {},
   "outputs": [],
   "source": [
    "#We shuffle the real news so that we can keep only 30-40k news articles and maintain a roughly even distribution of real vs fake\n",
    "real = real.sample(frac=1).reset_index(drop=True)"
   ]
  },
  {
   "cell_type": "code",
   "execution_count": 20,
   "metadata": {},
   "outputs": [
    {
     "data": {
      "text/plain": [
       "'SEATTLE/WASHINGTON (Reuters) - President Donald Trump called on the U.S. Postal Service on Friday to charge “much more” to ship packages for Amazon (AMZN.O), picking another fight with an online retail giant he has criticized in the past.     “Why is the United States Post Office, which is losing many billions of dollars a year, while charging Amazon and others so little to deliver their packages, making Amazon richer and the Post Office dumber and poorer? Should be charging MUCH MORE!” Trump wrote on Twitter.  The president’s tweet drew fresh attention to the fragile finances of the Postal Service at a time when tens of millions of parcels have just been shipped all over the country for the holiday season.  The U.S. Postal Service, which runs at a big loss, is an independent agency within the federal government and does not receive tax dollars for operating expenses, according to its website.  Package delivery has become an increasingly important part of its business as the Internet has led to a sharp decline in the amount of first-class letters. The president does not determine postal rates. They are set by the Postal Regulatory Commission, an independent government agency with commissioners selected by the president from both political parties. That panel raised prices on packages by almost 2 percent in November.  Amazon was founded by Jeff Bezos, who remains the chief executive officer of the retail company and is the richest person in the world, according to Bloomberg News. Bezos also owns The Washington Post, a newspaper Trump has repeatedly railed against in his criticisms of the news media. In tweets over the past year, Trump has said the “Amazon Washington Post” fabricated stories. He has said Amazon does not pay sales tax, which is not true, and so hurts other retailers, part of a pattern by the former businessman and reality television host of periodically turning his ire on big American companies since he took office in January. Daniel Ives, a research analyst at GBH Insights, said Trump’s comment could be taken as a warning to the retail giant. However, he said he was not concerned for Amazon. “We do not see any price hikes in the future. However, that is a risk that Amazon is clearly aware of and (it) is building out its distribution (system) aggressively,” he said. Amazon has shown interest in the past in shifting into its own delivery service, including testing drones for deliveries. In 2015, the company spent $11.5 billion on shipping, 46 percent of its total operating expenses that year.  Amazon shares were down 0.86 percent to $1,175.90 by early afternoon. Overall, U.S. stock prices were down slightly on Friday.  Satish Jindel, president of ShipMatrix Inc, which analyzes shipping data, disputed the idea that the Postal Service charges less than United Parcel Service Inc (UPS.N) and FedEx Corp (FDX.N), the other biggest players in the parcel delivery business in the United States. Many customers get lower rates from UPS and FedEx than they would get from the post office for comparable services, he said. The Postal Service delivers about 62 percent of Amazon packages, for about 3.5 to 4 million a day during the current peak year-end holiday shipping season, Jindel said. The Seattle-based company and the post office have an agreement in which mail carriers take Amazon packages on the last leg of their journeys, from post offices to customers’ doorsteps. Amazon’s No. 2 carrier is UPS, at 21 percent, and FedEx is third, with 8 percent or so, according to Jindel. Trump’s comment tapped into a debate over whether Postal Service pricing has kept pace with the rise of e-commerce, which has flooded the mail with small packages.Private companies like UPS have long claimed the current system unfairly undercuts their business. Steve Gaut, a spokesman for UPS, noted that the company values its “productive relationship” with the postal service, but that it has filed with the Postal Regulatory Commission its concerns about the postal service’s methods for covering costs. Representatives for Amazon, the White House, the U.S. Postal Service and FedEx declined comment or were not immediately available for comment on Trump’s tweet. According to its annual report, the Postal Service lost $2.74 billion this year, and its deficit has ballooned to $61.86 billion.  While the Postal Service’s revenue for first class mail, marketing mail and periodicals is flat or declining, revenue from package delivery is up 44 percent since 2014 to $19.5 billion in the fiscal year ended Sept. 30, 2017. But it also lost about $2 billion in revenue when a temporary surcharge expired in April 2016. According to a Government Accountability Office report in February, the service is facing growing personnel expenses, particularly $73.4 billion in unfunded pension and benefits liabilities. The Postal Service has not announced any plans to cut costs. By law, the Postal Service has to set prices for package delivery to cover the costs attributable to that service. But the postal service allocates only 5.5 percent of its total costs to its business of shipping packages even though that line of business is 28 percent of its total revenue. '"
      ]
     },
     "execution_count": 20,
     "metadata": {},
     "output_type": "execute_result"
    }
   ],
   "source": [
    "real.text[4]"
   ]
  },
  {
   "cell_type": "markdown",
   "metadata": {},
   "source": [
    "### Concatenating the Real, Fake & News Data Sets"
   ]
  },
  {
   "cell_type": "code",
   "execution_count": 61,
   "metadata": {},
   "outputs": [],
   "source": [
    "real_fake = pd.concat(objs = [real, fake], axis = 0)"
   ]
  },
  {
   "cell_type": "code",
   "execution_count": 62,
   "metadata": {},
   "outputs": [],
   "source": [
    "#We shuffle the data frame to blend fake and real rows\n",
    "real_fake = real_fake.sample(frac=1).reset_index(drop=True)"
   ]
  },
  {
   "cell_type": "code",
   "execution_count": 81,
   "metadata": {},
   "outputs": [
    {
     "data": {
      "text/html": [
       "<div>\n",
       "<style scoped>\n",
       "    .dataframe tbody tr th:only-of-type {\n",
       "        vertical-align: middle;\n",
       "    }\n",
       "\n",
       "    .dataframe tbody tr th {\n",
       "        vertical-align: top;\n",
       "    }\n",
       "\n",
       "    .dataframe thead th {\n",
       "        text-align: right;\n",
       "    }\n",
       "</style>\n",
       "<table border=\"1\" class=\"dataframe\">\n",
       "  <thead>\n",
       "    <tr style=\"text-align: right;\">\n",
       "      <th></th>\n",
       "      <th>title</th>\n",
       "      <th>text</th>\n",
       "      <th>label</th>\n",
       "    </tr>\n",
       "  </thead>\n",
       "  <tbody>\n",
       "    <tr>\n",
       "      <th>0</th>\n",
       "      <td>What Cher Just Did For The Residents Of Flint...</td>\n",
       "      <td>What s happening in Flint, Michigan is beyond ...</td>\n",
       "      <td>FAKE</td>\n",
       "    </tr>\n",
       "    <tr>\n",
       "      <th>1</th>\n",
       "      <td>Drunks And Empty Seats: Crooked Hillary Pander...</td>\n",
       "      <td>The woman whose criminal investigation has bee...</td>\n",
       "      <td>FAKE</td>\n",
       "    </tr>\n",
       "    <tr>\n",
       "      <th>2</th>\n",
       "      <td>Pence Delays Middle East Trip In Case Needed F...</td>\n",
       "      <td>- U.S. Vice President Mike Pence will delay a...</td>\n",
       "      <td>REAL</td>\n",
       "    </tr>\n",
       "    <tr>\n",
       "      <th>3</th>\n",
       "      <td>Colombia Airline Restarts Venezuela Flights Af...</td>\n",
       "      <td>Colombia’s Avianca airline AVT_p. CN will res...</td>\n",
       "      <td>REAL</td>\n",
       "    </tr>\n",
       "    <tr>\n",
       "      <th>4</th>\n",
       "      <td>War Crimes Accusations: Guess Who’S Talking | ...</td>\n",
       "      <td>Region: USA in the World As the voices demandi...</td>\n",
       "      <td>FAKE</td>\n",
       "    </tr>\n",
       "    <tr>\n",
       "      <th>...</th>\n",
       "      <td>...</td>\n",
       "      <td>...</td>\n",
       "      <td>...</td>\n",
       "    </tr>\n",
       "    <tr>\n",
       "      <th>71749</th>\n",
       "      <td>After A Century, Planned Parenthood Needs To B...</td>\n",
       "      <td>After a Century, Planned Parenthood Needs to b...</td>\n",
       "      <td>FAKE</td>\n",
       "    </tr>\n",
       "    <tr>\n",
       "      <th>71750</th>\n",
       "      <td>Obama’S Press Secretary Just Smacked Down A H...</td>\n",
       "      <td>In his efforts to weasel out of answering ques...</td>\n",
       "      <td>FAKE</td>\n",
       "    </tr>\n",
       "    <tr>\n",
       "      <th>71751</th>\n",
       "      <td>Oops! Lindsey Vonn Gets Hit With Big Dose Of K...</td>\n",
       "      <td>Only 3 days ago, Lindsey Vonn told CNN that sh...</td>\n",
       "      <td>FAKE</td>\n",
       "    </tr>\n",
       "    <tr>\n",
       "      <th>71752</th>\n",
       "      <td>Trump’S ‘Condolences’ To Grieving Star Were A...</td>\n",
       "      <td>Trump has no compassion, and he has no empathy...</td>\n",
       "      <td>FAKE</td>\n",
       "    </tr>\n",
       "    <tr>\n",
       "      <th>71753</th>\n",
       "      <td>Breaking: Fed Judge Terminates Mi Recount…Asks...</td>\n",
       "      <td>Start Counting. Keep Counting. Stop Counting? ...</td>\n",
       "      <td>FAKE</td>\n",
       "    </tr>\n",
       "  </tbody>\n",
       "</table>\n",
       "<p>71754 rows × 3 columns</p>\n",
       "</div>"
      ],
      "text/plain": [
       "                                                   title  \\\n",
       "0       What Cher Just Did For The Residents Of Flint...   \n",
       "1      Drunks And Empty Seats: Crooked Hillary Pander...   \n",
       "2      Pence Delays Middle East Trip In Case Needed F...   \n",
       "3      Colombia Airline Restarts Venezuela Flights Af...   \n",
       "4      War Crimes Accusations: Guess Who’S Talking | ...   \n",
       "...                                                  ...   \n",
       "71749  After A Century, Planned Parenthood Needs To B...   \n",
       "71750   Obama’S Press Secretary Just Smacked Down A H...   \n",
       "71751  Oops! Lindsey Vonn Gets Hit With Big Dose Of K...   \n",
       "71752   Trump’S ‘Condolences’ To Grieving Star Were A...   \n",
       "71753  Breaking: Fed Judge Terminates Mi Recount…Asks...   \n",
       "\n",
       "                                                    text label  \n",
       "0      What s happening in Flint, Michigan is beyond ...  FAKE  \n",
       "1      The woman whose criminal investigation has bee...  FAKE  \n",
       "2       - U.S. Vice President Mike Pence will delay a...  REAL  \n",
       "3       Colombia’s Avianca airline AVT_p. CN will res...  REAL  \n",
       "4      Region: USA in the World As the voices demandi...  FAKE  \n",
       "...                                                  ...   ...  \n",
       "71749  After a Century, Planned Parenthood Needs to b...  FAKE  \n",
       "71750  In his efforts to weasel out of answering ques...  FAKE  \n",
       "71751  Only 3 days ago, Lindsey Vonn told CNN that sh...  FAKE  \n",
       "71752  Trump has no compassion, and he has no empathy...  FAKE  \n",
       "71753  Start Counting. Keep Counting. Stop Counting? ...  FAKE  \n",
       "\n",
       "[71754 rows x 3 columns]"
      ]
     },
     "execution_count": 81,
     "metadata": {},
     "output_type": "execute_result"
    }
   ],
   "source": [
    "real_fake"
   ]
  },
  {
   "cell_type": "code",
   "execution_count": 82,
   "metadata": {},
   "outputs": [
    {
     "name": "stderr",
     "output_type": "stream",
     "text": [
      "/Users/javiercabrera/opt/anaconda3/lib/python3.8/site-packages/seaborn/_decorators.py:36: FutureWarning: Pass the following variable as a keyword arg: x. From version 0.12, the only valid positional argument will be `data`, and passing other arguments without an explicit keyword will result in an error or misinterpretation.\n",
      "  warnings.warn(\n"
     ]
    },
    {
     "data": {
      "text/plain": [
       "<AxesSubplot:xlabel='label', ylabel='count'>"
      ]
     },
     "execution_count": 82,
     "metadata": {},
     "output_type": "execute_result"
    },
    {
     "data": {
      "image/png": "[encoded data removed]",
      "text/plain": [
       "<Figure size 432x288 with 1 Axes>"
      ]
     },
     "metadata": {
      "needs_background": "light"
     },
     "output_type": "display_data"
    }
   ],
   "source": [
    "sns.countplot(real_fake.label)"
   ]
  },
  {
   "cell_type": "code",
   "execution_count": 83,
   "metadata": {},
   "outputs": [],
   "source": [
    "real_fake2 = pd.concat([real_fake, news], axis = 0)"
   ]
  },
  {
   "cell_type": "code",
   "execution_count": 84,
   "metadata": {},
   "outputs": [],
   "source": [
    "real_fake2 = real_fake2.sample(frac=1).reset_index(drop=True)"
   ]
  },
  {
   "cell_type": "code",
   "execution_count": 85,
   "metadata": {},
   "outputs": [
    {
     "name": "stderr",
     "output_type": "stream",
     "text": [
      "/Users/javiercabrera/opt/anaconda3/lib/python3.8/site-packages/seaborn/_decorators.py:36: FutureWarning: Pass the following variable as a keyword arg: x. From version 0.12, the only valid positional argument will be `data`, and passing other arguments without an explicit keyword will result in an error or misinterpretation.\n",
      "  warnings.warn(\n"
     ]
    },
    {
     "data": {
      "text/plain": [
       "<AxesSubplot:xlabel='label', ylabel='count'>"
      ]
     },
     "execution_count": 85,
     "metadata": {},
     "output_type": "execute_result"
    },
    {
     "data": {
      "image/png": "[encoded data removed]",
      "text/plain": [
       "<Figure size 432x288 with 1 Axes>"
      ]
     },
     "metadata": {
      "needs_background": "light"
     },
     "output_type": "display_data"
    }
   ],
   "source": [
    "sns.countplot(real_fake2.label)"
   ]
  },
  {
   "cell_type": "code",
   "execution_count": 86,
   "metadata": {},
   "outputs": [
    {
     "data": {
      "text/plain": [
       "78089"
      ]
     },
     "execution_count": 86,
     "metadata": {},
     "output_type": "execute_result"
    }
   ],
   "source": [
    "len(real_fake2)"
   ]
  },
  {
   "cell_type": "markdown",
   "metadata": {},
   "source": [
    "### PREPARING NEWS DATA FOR NLP"
   ]
  },
  {
   "cell_type": "markdown",
   "metadata": {},
   "source": [
    "Removing unwanted characters such as punctuation, HTML tags, and emoticons using regular expressions.\n",
    "\n",
    "\n",
    "Removing stop words (words that are extremely common in the English language and are generally not necessary for text classification purposes).\n",
    "\n",
    "\n",
    "Lemmatization, which is the process of reducing a word to its lemma or dictionary form. For example, the word run is the lemma for the words runs, ran, and running."
   ]
  },
  {
   "cell_type": "code",
   "execution_count": null,
   "metadata": {
    "scrolled": true
   },
   "outputs": [],
   "source": [
    "!pip install spacy"
   ]
  },
  {
   "cell_type": "code",
   "execution_count": null,
   "metadata": {},
   "outputs": [],
   "source": [
    "! python -m spacy download en_core_web_md\n"
   ]
  },
  {
   "cell_type": "code",
   "execution_count": 89,
   "metadata": {},
   "outputs": [],
   "source": [
    "import numpy as np\n",
    "import pandas as pd\n",
    "import spacy\n",
    "import matplotlib.pyplot as plt\n",
    "import seaborn as sns"
   ]
  },
  {
   "cell_type": "code",
   "execution_count": 87,
   "metadata": {},
   "outputs": [],
   "source": [
    "binary_fake_real = {'REAL': 0, 'FAKE':1}"
   ]
  },
  {
   "cell_type": "code",
   "execution_count": 90,
   "metadata": {},
   "outputs": [],
   "source": [
    "nlp = spacy.load('en_core_web_md')"
   ]
  },
  {
   "cell_type": "code",
   "execution_count": 91,
   "metadata": {},
   "outputs": [],
   "source": [
    "from spacy.lang.en.stop_words import STOP_WORDS"
   ]
  },
  {
   "cell_type": "code",
   "execution_count": 95,
   "metadata": {},
   "outputs": [],
   "source": [
    "def text_preprocessor(text):\n",
    "    text = re.sub('<[^>]*>', '', text) # Effectively removes HTML markup tags\n",
    "    emoticons = re.findall('(?::|;|=)(?:-)?(?:\\)|\\(|D|P)', text)\n",
    "    text = re.sub('[\\W]+', ' ', text.lower()) + ' '.join(emoticons).replace('-', '')\n",
    "    \n",
    "    doc = nlp(text)\n",
    "    #Lemmatization, which is the process of reducing a word to its lemma or dictionary form. \n",
    "    #For example, the word run is the lemma for the words runs, ran, and running.\n",
    "    text = ' '.join([token.lemma_ for token in doc if token.text not in STOP_WORDS])\n",
    "    return text"
   ]
  },
  {
   "cell_type": "markdown",
   "metadata": {},
   "source": [
    "### tokenization and Lemmatization function to our text and text columns"
   ]
  },
  {
   "cell_type": "code",
   "execution_count": 99,
   "metadata": {},
   "outputs": [],
   "source": [
    "real_fake2['text'] = real_fake2.text.apply(text_preprocessor)"
   ]
  },
  {
   "cell_type": "code",
   "execution_count": 104,
   "metadata": {},
   "outputs": [
    {
     "data": {
      "text/plain": [
       "REAL    39171\n",
       "FAKE    38918\n",
       "Name: label, dtype: int64"
      ]
     },
     "execution_count": 104,
     "metadata": {},
     "output_type": "execute_result"
    }
   ],
   "source": [
    "real_fake2.label.value_counts()"
   ]
  },
  {
   "cell_type": "markdown",
   "metadata": {},
   "source": [
    "# Dividing Data in Train, Test, Split"
   ]
  },
  {
   "cell_type": "code",
   "execution_count": null,
   "metadata": {},
   "outputs": [],
   "source": [
    "from sklearn.model_selection import train_test_split"
   ]
  },
  {
   "cell_type": "code",
   "execution_count": 105,
   "metadata": {},
   "outputs": [],
   "source": [
    "X = real_fake2[['title', 'text']]\n",
    "y = real_fake2['label']"
   ]
  },
  {
   "cell_type": "code",
   "execution_count": 106,
   "metadata": {},
   "outputs": [
    {
     "name": "stdout",
     "output_type": "stream",
     "text": [
      "78089\n",
      "78089\n"
     ]
    }
   ],
   "source": [
    "print(len(X))\n",
    "print(len(y))"
   ]
  },
  {
   "cell_type": "code",
   "execution_count": null,
   "metadata": {},
   "outputs": [],
   "source": [
    "X_train, x_test, y_train, y_test = train_test_split(X, y, test_size = 0.2, random_state = 42)\n",
    "X_train, X_valid, y_train, y_valid = train_test_split(X_train, y_train, test_size = 0.2, random_state = 42)"
   ]
  },
  {
   "cell_type": "code",
   "execution_count": null,
   "metadata": {},
   "outputs": [],
   "source": [
    "! ls\n"
   ]
  },
  {
   "cell_type": "code",
   "execution_count": 107,
   "metadata": {},
   "outputs": [],
   "source": [
    "data_processed = pd.DataFrame({'title': X['title'], 'text': X['text'], 'label': y})\n",
    "data_processed.to_csv('./News-DataSet/combined_news_data_processed.csv', index=False)"
   ]
  },
  {
   "cell_type": "code",
   "execution_count": 108,
   "metadata": {},
   "outputs": [
    {
     "data": {
      "text/html": [
       "<div>\n",
       "<style scoped>\n",
       "    .dataframe tbody tr th:only-of-type {\n",
       "        vertical-align: middle;\n",
       "    }\n",
       "\n",
       "    .dataframe tbody tr th {\n",
       "        vertical-align: top;\n",
       "    }\n",
       "\n",
       "    .dataframe thead th {\n",
       "        text-align: right;\n",
       "    }\n",
       "</style>\n",
       "<table border=\"1\" class=\"dataframe\">\n",
       "  <thead>\n",
       "    <tr style=\"text-align: right;\">\n",
       "      <th></th>\n",
       "      <th>title</th>\n",
       "      <th>text</th>\n",
       "      <th>label</th>\n",
       "    </tr>\n",
       "  </thead>\n",
       "  <tbody>\n",
       "    <tr>\n",
       "      <th>0</th>\n",
       "      <td>About Time! House Republicans Move To Charge H...</td>\n",
       "      <td>didn t america suffer high profile perjury cas...</td>\n",
       "      <td>FAKE</td>\n",
       "    </tr>\n",
       "    <tr>\n",
       "      <th>1</th>\n",
       "      <td>Pay 2 Play: Democratic Convention Ends Amid Co...</td>\n",
       "      <td>shawn helton 21st century wirethe 2016 democra...</td>\n",
       "      <td>FAKE</td>\n",
       "    </tr>\n",
       "    <tr>\n",
       "      <th>2</th>\n",
       "      <td>Trump Says U.S. Upholds And Sticks To 'One Chi...</td>\n",
       "      <td>united state government uphold stick china p...</td>\n",
       "      <td>REAL</td>\n",
       "    </tr>\n",
       "    <tr>\n",
       "      <th>3</th>\n",
       "      <td>Sarah Palin, Kid Rock And Ted Nugent Visited ...</td>\n",
       "      <td>sarah palin kid rock ted nugent visit white ho...</td>\n",
       "      <td>FAKE</td>\n",
       "    </tr>\n",
       "    <tr>\n",
       "      <th>4</th>\n",
       "      <td>Classless Kennedy Family With History Of Phila...</td>\n",
       "      <td>elite leftist celebrate america s independence...</td>\n",
       "      <td>FAKE</td>\n",
       "    </tr>\n",
       "    <tr>\n",
       "      <th>...</th>\n",
       "      <td>...</td>\n",
       "      <td>...</td>\n",
       "      <td>...</td>\n",
       "    </tr>\n",
       "    <tr>\n",
       "      <th>78084</th>\n",
       "      <td>FBI PANIC! Hillary LIES In First Press Confere...</td>\n",
       "      <td>video hillary clinton fbi panic hillary lie pr...</td>\n",
       "      <td>FAKE</td>\n",
       "    </tr>\n",
       "    <tr>\n",
       "      <th>78085</th>\n",
       "      <td>Fcc To Vote On Revising Rules On Identifying T...</td>\n",
       "      <td>u s federal communication commission say thu...</td>\n",
       "      <td>REAL</td>\n",
       "    </tr>\n",
       "    <tr>\n",
       "      <th>78086</th>\n",
       "      <td>Breaking Undercover Video: Democrat Operative…...</td>\n",
       "      <td>graphic uncensored disturbing james o keefe ...</td>\n",
       "      <td>FAKE</td>\n",
       "    </tr>\n",
       "    <tr>\n",
       "      <th>78087</th>\n",
       "      <td>New Yorkers Fight To Overturn Ballot Selfie Ban</td>\n",
       "      <td>new yorker fight overturn ballot selfie ban ne...</td>\n",
       "      <td>FAKE</td>\n",
       "    </tr>\n",
       "    <tr>\n",
       "      <th>78088</th>\n",
       "      <td>A Palliative Care Doctor Weighs California’S N...</td>\n",
       "      <td>hear california s new aid law sign dr carin va...</td>\n",
       "      <td>REAL</td>\n",
       "    </tr>\n",
       "  </tbody>\n",
       "</table>\n",
       "<p>78089 rows × 3 columns</p>\n",
       "</div>"
      ],
      "text/plain": [
       "                                                   title  \\\n",
       "0      About Time! House Republicans Move To Charge H...   \n",
       "1      Pay 2 Play: Democratic Convention Ends Amid Co...   \n",
       "2      Trump Says U.S. Upholds And Sticks To 'One Chi...   \n",
       "3       Sarah Palin, Kid Rock And Ted Nugent Visited ...   \n",
       "4      Classless Kennedy Family With History Of Phila...   \n",
       "...                                                  ...   \n",
       "78084  FBI PANIC! Hillary LIES In First Press Confere...   \n",
       "78085  Fcc To Vote On Revising Rules On Identifying T...   \n",
       "78086  Breaking Undercover Video: Democrat Operative…...   \n",
       "78087    New Yorkers Fight To Overturn Ballot Selfie Ban   \n",
       "78088  A Palliative Care Doctor Weighs California’S N...   \n",
       "\n",
       "                                                    text label  \n",
       "0      didn t america suffer high profile perjury cas...  FAKE  \n",
       "1      shawn helton 21st century wirethe 2016 democra...  FAKE  \n",
       "2        united state government uphold stick china p...  REAL  \n",
       "3      sarah palin kid rock ted nugent visit white ho...  FAKE  \n",
       "4      elite leftist celebrate america s independence...  FAKE  \n",
       "...                                                  ...   ...  \n",
       "78084  video hillary clinton fbi panic hillary lie pr...  FAKE  \n",
       "78085    u s federal communication commission say thu...  REAL  \n",
       "78086    graphic uncensored disturbing james o keefe ...  FAKE  \n",
       "78087  new yorker fight overturn ballot selfie ban ne...  FAKE  \n",
       "78088  hear california s new aid law sign dr carin va...  REAL  \n",
       "\n",
       "[78089 rows x 3 columns]"
      ]
     },
     "execution_count": 108,
     "metadata": {},
     "output_type": "execute_result"
    }
   ],
   "source": [
    "data_processed"
   ]
  },
  {
   "cell_type": "code",
   "execution_count": null,
   "metadata": {},
   "outputs": [],
   "source": []
  }
 ],
 "metadata": {
  "kernelspec": {
   "display_name": "Python 3",
   "language": "python",
   "name": "python3"
  },
  "language_info": {
   "codemirror_mode": {
    "name": "ipython",
    "version": 3
   },
   "file_extension": ".py",
   "mimetype": "text/x-python",
   "name": "python",
   "nbconvert_exporter": "python",
   "pygments_lexer": "ipython3",
   "version": "3.7.0"
  }
 },
 "nbformat": 4,
 "nbformat_minor": 4
}
