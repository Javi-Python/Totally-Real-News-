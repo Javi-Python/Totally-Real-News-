{
 "cells": [
  {
   "cell_type": "markdown",
   "metadata": {},
   "source": [
    "# Testing the model on NEURAL FAKE NEWS"
   ]
  },
  {
   "cell_type": "code",
   "execution_count": 2,
   "metadata": {},
   "outputs": [],
   "source": [
    "from keras_preprocessing.text import tokenizer_from_json\n",
    "import json"
   ]
  },
  {
   "cell_type": "code",
   "execution_count": 3,
   "metadata": {},
   "outputs": [],
   "source": [
    "with open('./tokenizer.json') as f:\n",
    "    data = json.load(f)\n",
    "    tokenizer = tokenizer_from_json(data)"
   ]
  },
  {
   "cell_type": "code",
   "execution_count": 4,
   "metadata": {},
   "outputs": [],
   "source": [
    "import pickle\n",
    "import pandas as pd\n",
    "import numpy as np\n",
    "#This class allows to vectorize a text corpus, by turning each text into either a sequence of integers (each integer being the index of a token in a dictionary) \n",
    "#or into a vector where the coefficient for each token \n",
    "from tensorflow.keras.preprocessing.text import Tokenizer\n",
    "\n",
    "#Converts a text to a sequence of indexes in a fixed-size hashing space.\n",
    "from tensorflow.keras.preprocessing.text import hashing_trick\n",
    "\n",
    "#Converts a text to a sequence of words (or tokens).\n",
    "from tensorflow.keras.preprocessing.text import text_to_word_sequence\n",
    "\n",
    "from tensorflow.keras.preprocessing import sequence\n",
    "\n",
    "from tensorflow.keras.preprocessing.sequence import pad_sequences\n",
    "\n",
    "#BaseEstimator and ClassifierMixin classes from Scikit-learn, allowing it to behave like a Scikit-learn estimator.\n",
    "from sklearn.base import BaseEstimator, ClassifierMixin\n",
    "\n",
    "#Accuracy metrics for model\n",
    "from sklearn.metrics import accuracy_score\n",
    "\n",
    "from tensorflow.keras.models import Sequential, load_model\n",
    "\n",
    "#lets us create embedding of words that represent the meaning of the words in relation to other words.\n",
    "from tensorflow.keras.layers import Embedding, LSTM, Dense, Conv1D, MaxPooling1D, Dropout\n",
    "\n",
    "from tensorflow.keras.callbacks import EarlyStopping, ModelCheckpoint\n",
    "\n",
    "from tensorflow.keras.layers import Dense\n"
   ]
  },
  {
   "cell_type": "markdown",
   "metadata": {},
   "source": [
    "# Importing Data and Model Features"
   ]
  },
  {
   "cell_type": "code",
   "execution_count": 5,
   "metadata": {},
   "outputs": [
    {
     "data": {
      "text/plain": [
       "<keras_preprocessing.text.Tokenizer at 0x1069fbb20>"
      ]
     },
     "execution_count": 5,
     "metadata": {},
     "output_type": "execute_result"
    }
   ],
   "source": [
    "tokenizer"
   ]
  },
  {
   "cell_type": "code",
   "execution_count": 6,
   "metadata": {},
   "outputs": [],
   "source": [
    "#Loading LSTM model \n",
    "from tensorflow import keras\n",
    "model = keras.models.load_model('./Keras_Model/LSTM_93%ACC.h5')"
   ]
  },
  {
   "cell_type": "code",
   "execution_count": 10,
   "metadata": {
    "collapsed": true
   },
   "outputs": [
    {
     "ename": "ValueError",
     "evalue": "('Unrecognized keyword arguments:', dict_keys(['ragged']))",
     "output_type": "error",
     "traceback": [
      "\u001b[0;31m---------------------------------------------------------------------------\u001b[0m",
      "\u001b[0;31mValueError\u001b[0m                                Traceback (most recent call last)",
      "\u001b[0;32m<ipython-input-10-53c906102240>\u001b[0m in \u001b[0;36m<module>\u001b[0;34m\u001b[0m\n\u001b[0;32m----> 1\u001b[0;31m \u001b[0mmodel2\u001b[0m \u001b[0;34m=\u001b[0m \u001b[0mkeras\u001b[0m\u001b[0;34m.\u001b[0m\u001b[0mmodels\u001b[0m\u001b[0;34m.\u001b[0m\u001b[0mload_model\u001b[0m\u001b[0;34m(\u001b[0m\u001b[0;34m'./Keras_Model/LSTM_95%recall.h5'\u001b[0m\u001b[0;34m)\u001b[0m\u001b[0;34m\u001b[0m\u001b[0;34m\u001b[0m\u001b[0m\n\u001b[0m",
      "\u001b[0;32m~/opt/anaconda3/envs/streamlit2/lib/python3.7/site-packages/tensorflow/python/keras/saving/save.py\u001b[0m in \u001b[0;36mload_model\u001b[0;34m(filepath, custom_objects, compile)\u001b[0m\n\u001b[1;32m    144\u001b[0m       h5py is not None and (\n\u001b[1;32m    145\u001b[0m           isinstance(filepath, h5py.File) or h5py.is_hdf5(filepath))):\n\u001b[0;32m--> 146\u001b[0;31m     \u001b[0;32mreturn\u001b[0m \u001b[0mhdf5_format\u001b[0m\u001b[0;34m.\u001b[0m\u001b[0mload_model_from_hdf5\u001b[0m\u001b[0;34m(\u001b[0m\u001b[0mfilepath\u001b[0m\u001b[0;34m,\u001b[0m \u001b[0mcustom_objects\u001b[0m\u001b[0;34m,\u001b[0m \u001b[0mcompile\u001b[0m\u001b[0;34m)\u001b[0m\u001b[0;34m\u001b[0m\u001b[0;34m\u001b[0m\u001b[0m\n\u001b[0m\u001b[1;32m    147\u001b[0m \u001b[0;34m\u001b[0m\u001b[0m\n\u001b[1;32m    148\u001b[0m   \u001b[0;32mif\u001b[0m \u001b[0misinstance\u001b[0m\u001b[0;34m(\u001b[0m\u001b[0mfilepath\u001b[0m\u001b[0;34m,\u001b[0m \u001b[0msix\u001b[0m\u001b[0;34m.\u001b[0m\u001b[0mstring_types\u001b[0m\u001b[0;34m)\u001b[0m\u001b[0;34m:\u001b[0m\u001b[0;34m\u001b[0m\u001b[0;34m\u001b[0m\u001b[0m\n",
      "\u001b[0;32m~/opt/anaconda3/envs/streamlit2/lib/python3.7/site-packages/tensorflow/python/keras/saving/hdf5_format.py\u001b[0m in \u001b[0;36mload_model_from_hdf5\u001b[0;34m(filepath, custom_objects, compile)\u001b[0m\n\u001b[1;32m    210\u001b[0m     \u001b[0mmodel_config\u001b[0m \u001b[0;34m=\u001b[0m \u001b[0mjson\u001b[0m\u001b[0;34m.\u001b[0m\u001b[0mloads\u001b[0m\u001b[0;34m(\u001b[0m\u001b[0mmodel_config\u001b[0m\u001b[0;34m.\u001b[0m\u001b[0mdecode\u001b[0m\u001b[0;34m(\u001b[0m\u001b[0;34m'utf-8'\u001b[0m\u001b[0;34m)\u001b[0m\u001b[0;34m)\u001b[0m\u001b[0;34m\u001b[0m\u001b[0;34m\u001b[0m\u001b[0m\n\u001b[1;32m    211\u001b[0m     model = model_config_lib.model_from_config(model_config,\n\u001b[0;32m--> 212\u001b[0;31m                                                custom_objects=custom_objects)\n\u001b[0m\u001b[1;32m    213\u001b[0m \u001b[0;34m\u001b[0m\u001b[0m\n\u001b[1;32m    214\u001b[0m     \u001b[0;31m# set weights\u001b[0m\u001b[0;34m\u001b[0m\u001b[0;34m\u001b[0m\u001b[0;34m\u001b[0m\u001b[0m\n",
      "\u001b[0;32m~/opt/anaconda3/envs/streamlit2/lib/python3.7/site-packages/tensorflow/python/keras/saving/model_config.py\u001b[0m in \u001b[0;36mmodel_from_config\u001b[0;34m(config, custom_objects)\u001b[0m\n\u001b[1;32m     53\u001b[0m                     '`Sequential.from_config(config)`?')\n\u001b[1;32m     54\u001b[0m   \u001b[0;32mfrom\u001b[0m \u001b[0mtensorflow\u001b[0m\u001b[0;34m.\u001b[0m\u001b[0mpython\u001b[0m\u001b[0;34m.\u001b[0m\u001b[0mkeras\u001b[0m\u001b[0;34m.\u001b[0m\u001b[0mlayers\u001b[0m \u001b[0;32mimport\u001b[0m \u001b[0mdeserialize\u001b[0m  \u001b[0;31m# pylint: disable=g-import-not-at-top\u001b[0m\u001b[0;34m\u001b[0m\u001b[0;34m\u001b[0m\u001b[0m\n\u001b[0;32m---> 55\u001b[0;31m   \u001b[0;32mreturn\u001b[0m \u001b[0mdeserialize\u001b[0m\u001b[0;34m(\u001b[0m\u001b[0mconfig\u001b[0m\u001b[0;34m,\u001b[0m \u001b[0mcustom_objects\u001b[0m\u001b[0;34m=\u001b[0m\u001b[0mcustom_objects\u001b[0m\u001b[0;34m)\u001b[0m\u001b[0;34m\u001b[0m\u001b[0;34m\u001b[0m\u001b[0m\n\u001b[0m\u001b[1;32m     56\u001b[0m \u001b[0;34m\u001b[0m\u001b[0m\n\u001b[1;32m     57\u001b[0m \u001b[0;34m\u001b[0m\u001b[0m\n",
      "\u001b[0;32m~/opt/anaconda3/envs/streamlit2/lib/python3.7/site-packages/tensorflow/python/keras/layers/serialization.py\u001b[0m in \u001b[0;36mdeserialize\u001b[0;34m(config, custom_objects)\u001b[0m\n\u001b[1;32m     87\u001b[0m       \u001b[0mmodule_objects\u001b[0m\u001b[0;34m=\u001b[0m\u001b[0mglobs\u001b[0m\u001b[0;34m,\u001b[0m\u001b[0;34m\u001b[0m\u001b[0;34m\u001b[0m\u001b[0m\n\u001b[1;32m     88\u001b[0m       \u001b[0mcustom_objects\u001b[0m\u001b[0;34m=\u001b[0m\u001b[0mcustom_objects\u001b[0m\u001b[0;34m,\u001b[0m\u001b[0;34m\u001b[0m\u001b[0;34m\u001b[0m\u001b[0m\n\u001b[0;32m---> 89\u001b[0;31m       printable_module_name='layer')\n\u001b[0m",
      "\u001b[0;32m~/opt/anaconda3/envs/streamlit2/lib/python3.7/site-packages/tensorflow/python/keras/utils/generic_utils.py\u001b[0m in \u001b[0;36mdeserialize_keras_object\u001b[0;34m(identifier, module_objects, custom_objects, printable_module_name)\u001b[0m\n\u001b[1;32m    190\u001b[0m             custom_objects=dict(\n\u001b[1;32m    191\u001b[0m                 \u001b[0mlist\u001b[0m\u001b[0;34m(\u001b[0m\u001b[0m_GLOBAL_CUSTOM_OBJECTS\u001b[0m\u001b[0;34m.\u001b[0m\u001b[0mitems\u001b[0m\u001b[0;34m(\u001b[0m\u001b[0;34m)\u001b[0m\u001b[0;34m)\u001b[0m \u001b[0;34m+\u001b[0m\u001b[0;34m\u001b[0m\u001b[0;34m\u001b[0m\u001b[0m\n\u001b[0;32m--> 192\u001b[0;31m                 list(custom_objects.items())))\n\u001b[0m\u001b[1;32m    193\u001b[0m       \u001b[0;32mwith\u001b[0m \u001b[0mCustomObjectScope\u001b[0m\u001b[0;34m(\u001b[0m\u001b[0mcustom_objects\u001b[0m\u001b[0;34m)\u001b[0m\u001b[0;34m:\u001b[0m\u001b[0;34m\u001b[0m\u001b[0;34m\u001b[0m\u001b[0m\n\u001b[1;32m    194\u001b[0m         \u001b[0;32mreturn\u001b[0m \u001b[0mcls\u001b[0m\u001b[0;34m.\u001b[0m\u001b[0mfrom_config\u001b[0m\u001b[0;34m(\u001b[0m\u001b[0mcls_config\u001b[0m\u001b[0;34m)\u001b[0m\u001b[0;34m\u001b[0m\u001b[0;34m\u001b[0m\u001b[0m\n",
      "\u001b[0;32m~/opt/anaconda3/envs/streamlit2/lib/python3.7/site-packages/tensorflow/python/keras/engine/sequential.py\u001b[0m in \u001b[0;36mfrom_config\u001b[0;34m(cls, config, custom_objects)\u001b[0m\n\u001b[1;32m    350\u001b[0m     \u001b[0;32mfor\u001b[0m \u001b[0mlayer_config\u001b[0m \u001b[0;32min\u001b[0m \u001b[0mlayer_configs\u001b[0m\u001b[0;34m:\u001b[0m\u001b[0;34m\u001b[0m\u001b[0;34m\u001b[0m\u001b[0m\n\u001b[1;32m    351\u001b[0m       layer = layer_module.deserialize(layer_config,\n\u001b[0;32m--> 352\u001b[0;31m                                        custom_objects=custom_objects)\n\u001b[0m\u001b[1;32m    353\u001b[0m       \u001b[0mmodel\u001b[0m\u001b[0;34m.\u001b[0m\u001b[0madd\u001b[0m\u001b[0;34m(\u001b[0m\u001b[0mlayer\u001b[0m\u001b[0;34m)\u001b[0m\u001b[0;34m\u001b[0m\u001b[0;34m\u001b[0m\u001b[0m\n\u001b[1;32m    354\u001b[0m     \u001b[0;32mif\u001b[0m \u001b[0;32mnot\u001b[0m \u001b[0mmodel\u001b[0m\u001b[0;34m.\u001b[0m\u001b[0minputs\u001b[0m \u001b[0;32mand\u001b[0m \u001b[0mbuild_input_shape\u001b[0m\u001b[0;34m:\u001b[0m\u001b[0;34m\u001b[0m\u001b[0;34m\u001b[0m\u001b[0m\n",
      "\u001b[0;32m~/opt/anaconda3/envs/streamlit2/lib/python3.7/site-packages/tensorflow/python/keras/layers/serialization.py\u001b[0m in \u001b[0;36mdeserialize\u001b[0;34m(config, custom_objects)\u001b[0m\n\u001b[1;32m     87\u001b[0m       \u001b[0mmodule_objects\u001b[0m\u001b[0;34m=\u001b[0m\u001b[0mglobs\u001b[0m\u001b[0;34m,\u001b[0m\u001b[0;34m\u001b[0m\u001b[0;34m\u001b[0m\u001b[0m\n\u001b[1;32m     88\u001b[0m       \u001b[0mcustom_objects\u001b[0m\u001b[0;34m=\u001b[0m\u001b[0mcustom_objects\u001b[0m\u001b[0;34m,\u001b[0m\u001b[0;34m\u001b[0m\u001b[0;34m\u001b[0m\u001b[0m\n\u001b[0;32m---> 89\u001b[0;31m       printable_module_name='layer')\n\u001b[0m",
      "\u001b[0;32m~/opt/anaconda3/envs/streamlit2/lib/python3.7/site-packages/tensorflow/python/keras/utils/generic_utils.py\u001b[0m in \u001b[0;36mdeserialize_keras_object\u001b[0;34m(identifier, module_objects, custom_objects, printable_module_name)\u001b[0m\n\u001b[1;32m    192\u001b[0m                 list(custom_objects.items())))\n\u001b[1;32m    193\u001b[0m       \u001b[0;32mwith\u001b[0m \u001b[0mCustomObjectScope\u001b[0m\u001b[0;34m(\u001b[0m\u001b[0mcustom_objects\u001b[0m\u001b[0;34m)\u001b[0m\u001b[0;34m:\u001b[0m\u001b[0;34m\u001b[0m\u001b[0;34m\u001b[0m\u001b[0m\n\u001b[0;32m--> 194\u001b[0;31m         \u001b[0;32mreturn\u001b[0m \u001b[0mcls\u001b[0m\u001b[0;34m.\u001b[0m\u001b[0mfrom_config\u001b[0m\u001b[0;34m(\u001b[0m\u001b[0mcls_config\u001b[0m\u001b[0;34m)\u001b[0m\u001b[0;34m\u001b[0m\u001b[0;34m\u001b[0m\u001b[0m\n\u001b[0m\u001b[1;32m    195\u001b[0m     \u001b[0;32melse\u001b[0m\u001b[0;34m:\u001b[0m\u001b[0;34m\u001b[0m\u001b[0;34m\u001b[0m\u001b[0m\n\u001b[1;32m    196\u001b[0m       \u001b[0;31m# Then `cls` may be a function returning a class.\u001b[0m\u001b[0;34m\u001b[0m\u001b[0;34m\u001b[0m\u001b[0;34m\u001b[0m\u001b[0m\n",
      "\u001b[0;32m~/opt/anaconda3/envs/streamlit2/lib/python3.7/site-packages/tensorflow/python/keras/engine/base_layer.py\u001b[0m in \u001b[0;36mfrom_config\u001b[0;34m(cls, config)\u001b[0m\n\u001b[1;32m    444\u001b[0m         \u001b[0mA\u001b[0m \u001b[0mlayer\u001b[0m \u001b[0minstance\u001b[0m\u001b[0;34m.\u001b[0m\u001b[0;34m\u001b[0m\u001b[0;34m\u001b[0m\u001b[0m\n\u001b[1;32m    445\u001b[0m     \"\"\"\n\u001b[0;32m--> 446\u001b[0;31m     \u001b[0;32mreturn\u001b[0m \u001b[0mcls\u001b[0m\u001b[0;34m(\u001b[0m\u001b[0;34m**\u001b[0m\u001b[0mconfig\u001b[0m\u001b[0;34m)\u001b[0m\u001b[0;34m\u001b[0m\u001b[0;34m\u001b[0m\u001b[0m\n\u001b[0m\u001b[1;32m    447\u001b[0m \u001b[0;34m\u001b[0m\u001b[0m\n\u001b[1;32m    448\u001b[0m   \u001b[0;32mdef\u001b[0m \u001b[0mcompute_output_shape\u001b[0m\u001b[0;34m(\u001b[0m\u001b[0mself\u001b[0m\u001b[0;34m,\u001b[0m \u001b[0minput_shape\u001b[0m\u001b[0;34m)\u001b[0m\u001b[0;34m:\u001b[0m\u001b[0;34m\u001b[0m\u001b[0;34m\u001b[0m\u001b[0m\n",
      "\u001b[0;32m~/opt/anaconda3/envs/streamlit2/lib/python3.7/site-packages/tensorflow/python/keras/engine/input_layer.py\u001b[0m in \u001b[0;36m__init__\u001b[0;34m(self, input_shape, batch_size, dtype, input_tensor, sparse, name, **kwargs)\u001b[0m\n\u001b[1;32m     78\u001b[0m       \u001b[0minput_shape\u001b[0m \u001b[0;34m=\u001b[0m \u001b[0mbatch_input_shape\u001b[0m\u001b[0;34m[\u001b[0m\u001b[0;36m1\u001b[0m\u001b[0;34m:\u001b[0m\u001b[0;34m]\u001b[0m\u001b[0;34m\u001b[0m\u001b[0;34m\u001b[0m\u001b[0m\n\u001b[1;32m     79\u001b[0m     \u001b[0;32mif\u001b[0m \u001b[0mkwargs\u001b[0m\u001b[0;34m:\u001b[0m\u001b[0;34m\u001b[0m\u001b[0;34m\u001b[0m\u001b[0m\n\u001b[0;32m---> 80\u001b[0;31m       \u001b[0;32mraise\u001b[0m \u001b[0mValueError\u001b[0m\u001b[0;34m(\u001b[0m\u001b[0;34m'Unrecognized keyword arguments:'\u001b[0m\u001b[0;34m,\u001b[0m \u001b[0mkwargs\u001b[0m\u001b[0;34m.\u001b[0m\u001b[0mkeys\u001b[0m\u001b[0;34m(\u001b[0m\u001b[0;34m)\u001b[0m\u001b[0;34m)\u001b[0m\u001b[0;34m\u001b[0m\u001b[0;34m\u001b[0m\u001b[0m\n\u001b[0m\u001b[1;32m     81\u001b[0m \u001b[0;34m\u001b[0m\u001b[0m\n\u001b[1;32m     82\u001b[0m     \u001b[0;32mif\u001b[0m \u001b[0;32mnot\u001b[0m \u001b[0mname\u001b[0m\u001b[0;34m:\u001b[0m\u001b[0;34m\u001b[0m\u001b[0;34m\u001b[0m\u001b[0m\n",
      "\u001b[0;31mValueError\u001b[0m: ('Unrecognized keyword arguments:', dict_keys(['ragged']))"
     ]
    }
   ],
   "source": [
    "model2 = keras.models.load_model('./Keras_Model/LSTM_95%recall.h5')"
   ]
  },
  {
   "cell_type": "code",
   "execution_count": 7,
   "metadata": {},
   "outputs": [
    {
     "name": "stdout",
     "output_type": "stream",
     "text": [
      "Model: \"sequential_1\"\n",
      "_________________________________________________________________\n",
      "Layer (type)                 Output Shape              Param #   \n",
      "=================================================================\n",
      "embedding_1 (Embedding)      (None, 320, 16)           9600      \n",
      "_________________________________________________________________\n",
      "conv1d_4 (Conv1D)            (None, 320, 32)           2592      \n",
      "_________________________________________________________________\n",
      "max_pooling1d_4 (MaxPooling1 (None, 160, 32)           0         \n",
      "_________________________________________________________________\n",
      "conv1d_5 (Conv1D)            (None, 160, 64)           10304     \n",
      "_________________________________________________________________\n",
      "max_pooling1d_5 (MaxPooling1 (None, 80, 64)            0         \n",
      "_________________________________________________________________\n",
      "conv1d_6 (Conv1D)            (None, 80, 128)           41088     \n",
      "_________________________________________________________________\n",
      "max_pooling1d_6 (MaxPooling1 (None, 40, 128)           0         \n",
      "_________________________________________________________________\n",
      "conv1d_7 (Conv1D)            (None, 40, 192)           123072    \n",
      "_________________________________________________________________\n",
      "max_pooling1d_7 (MaxPooling1 (None, 20, 192)           0         \n",
      "_________________________________________________________________\n",
      "lstm_2 (LSTM)                (None, 20, 64)            65792     \n",
      "_________________________________________________________________\n",
      "dropout_2 (Dropout)          (None, 20, 64)            0         \n",
      "_________________________________________________________________\n",
      "lstm_3 (LSTM)                (None, 32)                12416     \n",
      "_________________________________________________________________\n",
      "dropout_3 (Dropout)          (None, 32)                0         \n",
      "_________________________________________________________________\n",
      "dense_1 (Dense)              (None, 1)                 33        \n",
      "=================================================================\n",
      "Total params: 264,897\n",
      "Trainable params: 264,897\n",
      "Non-trainable params: 0\n",
      "_________________________________________________________________\n",
      "None\n"
     ]
    }
   ],
   "source": [
    "print(model.summary())"
   ]
  },
  {
   "cell_type": "markdown",
   "metadata": {},
   "source": [
    "### Preparing Neural Fake Articles (GROVER Model)"
   ]
  },
  {
   "cell_type": "code",
   "execution_count": 8,
   "metadata": {},
   "outputs": [],
   "source": [
    "fake_putin = pd.read_csv('./Grover-Fakes/fake_Grove_articles_Putin2.csv')"
   ]
  },
  {
   "cell_type": "code",
   "execution_count": 9,
   "metadata": {},
   "outputs": [],
   "source": [
    "fake_putin = fake_putin['text'].reset_index().drop('index', axis = 1)"
   ]
  },
  {
   "cell_type": "code",
   "execution_count": 10,
   "metadata": {},
   "outputs": [
    {
     "data": {
      "text/html": [
       "<div>\n",
       "<style scoped>\n",
       "    .dataframe tbody tr th:only-of-type {\n",
       "        vertical-align: middle;\n",
       "    }\n",
       "\n",
       "    .dataframe tbody tr th {\n",
       "        vertical-align: top;\n",
       "    }\n",
       "\n",
       "    .dataframe thead th {\n",
       "        text-align: right;\n",
       "    }\n",
       "</style>\n",
       "<table border=\"1\" class=\"dataframe\">\n",
       "  <thead>\n",
       "    <tr style=\"text-align: right;\">\n",
       "      <th></th>\n",
       "      <th>text</th>\n",
       "    </tr>\n",
       "  </thead>\n",
       "  <tbody>\n",
       "    <tr>\n",
       "      <th>0</th>\n",
       "      <td>Vladimir Putin’s regime has created a complex ...</td>\n",
       "    </tr>\n",
       "    <tr>\n",
       "      <th>1</th>\n",
       "      <td>Vladimir Putin spent part of Friday listening ...</td>\n",
       "    </tr>\n",
       "    <tr>\n",
       "      <th>2</th>\n",
       "      <td>Military strategist Peter W. Singer has had hi...</td>\n",
       "    </tr>\n",
       "    <tr>\n",
       "      <th>3</th>\n",
       "      <td>Do the Russians look forward to continued frie...</td>\n",
       "    </tr>\n",
       "  </tbody>\n",
       "</table>\n",
       "</div>"
      ],
      "text/plain": [
       "                                                text\n",
       "0  Vladimir Putin’s regime has created a complex ...\n",
       "1  Vladimir Putin spent part of Friday listening ...\n",
       "2  Military strategist Peter W. Singer has had hi...\n",
       "3  Do the Russians look forward to continued frie..."
      ]
     },
     "execution_count": 10,
     "metadata": {},
     "output_type": "execute_result"
    }
   ],
   "source": [
    "fake_putin"
   ]
  },
  {
   "cell_type": "code",
   "execution_count": 11,
   "metadata": {},
   "outputs": [],
   "source": [
    "fake_putin2 = pd.read_csv('./Grover-Fakes/fake_Grove_articles_Putin1.csv')\n",
    "fake_putin2 = fake_putin2['text'].reset_index().drop('index', axis = 1)"
   ]
  },
  {
   "cell_type": "code",
   "execution_count": 12,
   "metadata": {},
   "outputs": [
    {
     "data": {
      "text/html": [
       "<div>\n",
       "<style scoped>\n",
       "    .dataframe tbody tr th:only-of-type {\n",
       "        vertical-align: middle;\n",
       "    }\n",
       "\n",
       "    .dataframe tbody tr th {\n",
       "        vertical-align: top;\n",
       "    }\n",
       "\n",
       "    .dataframe thead th {\n",
       "        text-align: right;\n",
       "    }\n",
       "</style>\n",
       "<table border=\"1\" class=\"dataframe\">\n",
       "  <thead>\n",
       "    <tr style=\"text-align: right;\">\n",
       "      <th></th>\n",
       "      <th>text</th>\n",
       "    </tr>\n",
       "  </thead>\n",
       "  <tbody>\n",
       "    <tr>\n",
       "      <th>0</th>\n",
       "      <td>Faced with mounting pressure from the U.S. adm...</td>\n",
       "    </tr>\n",
       "    <tr>\n",
       "      <th>1</th>\n",
       "      <td>Vladimir Putin, who has ruled Russia since 200...</td>\n",
       "    </tr>\n",
       "    <tr>\n",
       "      <th>2</th>\n",
       "      <td>Russia’s Vladimir Putin is accused of conspiri...</td>\n",
       "    </tr>\n",
       "  </tbody>\n",
       "</table>\n",
       "</div>"
      ],
      "text/plain": [
       "                                                text\n",
       "0  Faced with mounting pressure from the U.S. adm...\n",
       "1  Vladimir Putin, who has ruled Russia since 200...\n",
       "2  Russia’s Vladimir Putin is accused of conspiri..."
      ]
     },
     "execution_count": 12,
     "metadata": {},
     "output_type": "execute_result"
    }
   ],
   "source": [
    "fake_putin2"
   ]
  },
  {
   "cell_type": "code",
   "execution_count": 13,
   "metadata": {},
   "outputs": [],
   "source": [
    "fake_putin = pd.concat([fake_putin, fake_putin2]).reset_index()"
   ]
  },
  {
   "cell_type": "code",
   "execution_count": 14,
   "metadata": {},
   "outputs": [],
   "source": [
    "fake_putin = fake_putin.drop('index', axis = 1)"
   ]
  },
  {
   "cell_type": "code",
   "execution_count": 15,
   "metadata": {},
   "outputs": [
    {
     "data": {
      "text/html": [
       "<div>\n",
       "<style scoped>\n",
       "    .dataframe tbody tr th:only-of-type {\n",
       "        vertical-align: middle;\n",
       "    }\n",
       "\n",
       "    .dataframe tbody tr th {\n",
       "        vertical-align: top;\n",
       "    }\n",
       "\n",
       "    .dataframe thead th {\n",
       "        text-align: right;\n",
       "    }\n",
       "</style>\n",
       "<table border=\"1\" class=\"dataframe\">\n",
       "  <thead>\n",
       "    <tr style=\"text-align: right;\">\n",
       "      <th></th>\n",
       "      <th>text</th>\n",
       "    </tr>\n",
       "  </thead>\n",
       "  <tbody>\n",
       "    <tr>\n",
       "      <th>0</th>\n",
       "      <td>Vladimir Putin’s regime has created a complex ...</td>\n",
       "    </tr>\n",
       "    <tr>\n",
       "      <th>1</th>\n",
       "      <td>Vladimir Putin spent part of Friday listening ...</td>\n",
       "    </tr>\n",
       "    <tr>\n",
       "      <th>2</th>\n",
       "      <td>Military strategist Peter W. Singer has had hi...</td>\n",
       "    </tr>\n",
       "    <tr>\n",
       "      <th>3</th>\n",
       "      <td>Do the Russians look forward to continued frie...</td>\n",
       "    </tr>\n",
       "    <tr>\n",
       "      <th>4</th>\n",
       "      <td>Faced with mounting pressure from the U.S. adm...</td>\n",
       "    </tr>\n",
       "    <tr>\n",
       "      <th>5</th>\n",
       "      <td>Vladimir Putin, who has ruled Russia since 200...</td>\n",
       "    </tr>\n",
       "    <tr>\n",
       "      <th>6</th>\n",
       "      <td>Russia’s Vladimir Putin is accused of conspiri...</td>\n",
       "    </tr>\n",
       "  </tbody>\n",
       "</table>\n",
       "</div>"
      ],
      "text/plain": [
       "                                                text\n",
       "0  Vladimir Putin’s regime has created a complex ...\n",
       "1  Vladimir Putin spent part of Friday listening ...\n",
       "2  Military strategist Peter W. Singer has had hi...\n",
       "3  Do the Russians look forward to continued frie...\n",
       "4  Faced with mounting pressure from the U.S. adm...\n",
       "5  Vladimir Putin, who has ruled Russia since 200...\n",
       "6  Russia’s Vladimir Putin is accused of conspiri..."
      ]
     },
     "execution_count": 15,
     "metadata": {},
     "output_type": "execute_result"
    }
   ],
   "source": [
    "fake_putin"
   ]
  },
  {
   "cell_type": "code",
   "execution_count": 16,
   "metadata": {},
   "outputs": [],
   "source": [
    "fake_trump = pd.read_csv('./Grover-Fakes/fake_Grove_articles_trump1.csv')"
   ]
  },
  {
   "cell_type": "code",
   "execution_count": 17,
   "metadata": {},
   "outputs": [],
   "source": [
    "fake_trump2 = pd.read_csv('./Grover-Fakes/fake_Grove_articles_trump2.csv')"
   ]
  },
  {
   "cell_type": "code",
   "execution_count": 18,
   "metadata": {},
   "outputs": [],
   "source": [
    "fake_trump = fake_trump['text'].reset_index().drop('index', axis = 1)"
   ]
  },
  {
   "cell_type": "code",
   "execution_count": 19,
   "metadata": {},
   "outputs": [],
   "source": [
    "fake_trump2 = fake_trump2['text'].reset_index().drop('index', axis = 1)"
   ]
  },
  {
   "cell_type": "code",
   "execution_count": 20,
   "metadata": {},
   "outputs": [],
   "source": [
    "fake_trump = pd.concat([fake_trump, fake_trump2]).reset_index()"
   ]
  },
  {
   "cell_type": "code",
   "execution_count": 21,
   "metadata": {},
   "outputs": [
    {
     "data": {
      "text/html": [
       "<div>\n",
       "<style scoped>\n",
       "    .dataframe tbody tr th:only-of-type {\n",
       "        vertical-align: middle;\n",
       "    }\n",
       "\n",
       "    .dataframe tbody tr th {\n",
       "        vertical-align: top;\n",
       "    }\n",
       "\n",
       "    .dataframe thead th {\n",
       "        text-align: right;\n",
       "    }\n",
       "</style>\n",
       "<table border=\"1\" class=\"dataframe\">\n",
       "  <thead>\n",
       "    <tr style=\"text-align: right;\">\n",
       "      <th></th>\n",
       "      <th>text</th>\n",
       "    </tr>\n",
       "  </thead>\n",
       "  <tbody>\n",
       "    <tr>\n",
       "      <th>0</th>\n",
       "      <td>The White House is actively searching for a re...</td>\n",
       "    </tr>\n",
       "    <tr>\n",
       "      <th>1</th>\n",
       "      <td>Back in the 1920s, Mr. Trump was just a teenag...</td>\n",
       "    </tr>\n",
       "    <tr>\n",
       "      <th>2</th>\n",
       "      <td>President Donald Trump is upset with the media...</td>\n",
       "    </tr>\n",
       "    <tr>\n",
       "      <th>3</th>\n",
       "      <td>Army Chief of Staff Gen. Mark Milley, who also...</td>\n",
       "    </tr>\n",
       "    <tr>\n",
       "      <th>4</th>\n",
       "      <td>At a dinner on Saturday night, President Trump...</td>\n",
       "    </tr>\n",
       "    <tr>\n",
       "      <th>5</th>\n",
       "      <td>President Donald Trump made clear in testimony...</td>\n",
       "    </tr>\n",
       "    <tr>\n",
       "      <th>6</th>\n",
       "      <td>On April 22, 2017, Donald Trump met with South...</td>\n",
       "    </tr>\n",
       "    <tr>\n",
       "      <th>7</th>\n",
       "      <td>I have signed the Abolish Minimum Wage Act. — ...</td>\n",
       "    </tr>\n",
       "  </tbody>\n",
       "</table>\n",
       "</div>"
      ],
      "text/plain": [
       "                                                text\n",
       "0  The White House is actively searching for a re...\n",
       "1  Back in the 1920s, Mr. Trump was just a teenag...\n",
       "2  President Donald Trump is upset with the media...\n",
       "3  Army Chief of Staff Gen. Mark Milley, who also...\n",
       "4  At a dinner on Saturday night, President Trump...\n",
       "5  President Donald Trump made clear in testimony...\n",
       "6  On April 22, 2017, Donald Trump met with South...\n",
       "7  I have signed the Abolish Minimum Wage Act. — ..."
      ]
     },
     "execution_count": 21,
     "metadata": {},
     "output_type": "execute_result"
    }
   ],
   "source": [
    "fake_trump.drop('index', axis = 1)"
   ]
  },
  {
   "cell_type": "code",
   "execution_count": 22,
   "metadata": {},
   "outputs": [
    {
     "data": {
      "text/html": [
       "<div>\n",
       "<style scoped>\n",
       "    .dataframe tbody tr th:only-of-type {\n",
       "        vertical-align: middle;\n",
       "    }\n",
       "\n",
       "    .dataframe tbody tr th {\n",
       "        vertical-align: top;\n",
       "    }\n",
       "\n",
       "    .dataframe thead th {\n",
       "        text-align: right;\n",
       "    }\n",
       "</style>\n",
       "<table border=\"1\" class=\"dataframe\">\n",
       "  <thead>\n",
       "    <tr style=\"text-align: right;\">\n",
       "      <th></th>\n",
       "      <th>text</th>\n",
       "    </tr>\n",
       "  </thead>\n",
       "  <tbody>\n",
       "    <tr>\n",
       "      <th>0</th>\n",
       "      <td>The subject of sex is far more complicated tha...</td>\n",
       "    </tr>\n",
       "    <tr>\n",
       "      <th>1</th>\n",
       "      <td>Joe Biden kissed Barack Obama on the cheek as ...</td>\n",
       "    </tr>\n",
       "    <tr>\n",
       "      <th>2</th>\n",
       "      <td>It is ironic that during a moment when politic...</td>\n",
       "    </tr>\n",
       "    <tr>\n",
       "      <th>3</th>\n",
       "      <td>Asked this week why he didn’t describe himself...</td>\n",
       "    </tr>\n",
       "    <tr>\n",
       "      <th>4</th>\n",
       "      <td>Vice President Biden, in a new poll, scored th...</td>\n",
       "    </tr>\n",
       "    <tr>\n",
       "      <th>5</th>\n",
       "      <td>It’s always tough to get a former vice preside...</td>\n",
       "    </tr>\n",
       "    <tr>\n",
       "      <th>6</th>\n",
       "      <td>When President Trump signed an executive order...</td>\n",
       "    </tr>\n",
       "    <tr>\n",
       "      <th>7</th>\n",
       "      <td>Six years after announcing their “gladness” th...</td>\n",
       "    </tr>\n",
       "    <tr>\n",
       "      <th>8</th>\n",
       "      <td>It’s the Cold War horror, frozen in history, t...</td>\n",
       "    </tr>\n",
       "    <tr>\n",
       "      <th>9</th>\n",
       "      <td>Former vice president Joe Biden, who is mullin...</td>\n",
       "    </tr>\n",
       "    <tr>\n",
       "      <th>10</th>\n",
       "      <td>Joe Biden is looking for his next big thing.\\n...</td>\n",
       "    </tr>\n",
       "    <tr>\n",
       "      <th>11</th>\n",
       "      <td>Angered over the federal government’s lopsided...</td>\n",
       "    </tr>\n",
       "    <tr>\n",
       "      <th>12</th>\n",
       "      <td>Just weeks ago on Meet the Press, Bernie Sande...</td>\n",
       "    </tr>\n",
       "    <tr>\n",
       "      <th>13</th>\n",
       "      <td>Bernie Sanders is part of a Jewish cabal plott...</td>\n",
       "    </tr>\n",
       "    <tr>\n",
       "      <th>14</th>\n",
       "      <td>This is a breaking story — please stay tuned t...</td>\n",
       "    </tr>\n",
       "    <tr>\n",
       "      <th>15</th>\n",
       "      <td>In April, video surfaced of a man who identifi...</td>\n",
       "    </tr>\n",
       "    <tr>\n",
       "      <th>16</th>\n",
       "      <td>Many politicians spend much of their political...</td>\n",
       "    </tr>\n",
       "    <tr>\n",
       "      <th>17</th>\n",
       "      <td>Sen. Bernie Sanders of Vermont speaks to the D...</td>\n",
       "    </tr>\n",
       "    <tr>\n",
       "      <th>18</th>\n",
       "      <td>Some pundits are lamenting the end of the Bern...</td>\n",
       "    </tr>\n",
       "    <tr>\n",
       "      <th>19</th>\n",
       "      <td>Sen. Bernie Sanders and former Secretary of St...</td>\n",
       "    </tr>\n",
       "    <tr>\n",
       "      <th>20</th>\n",
       "      <td>Watch Bernie Sanders don’t wear a mask in his ...</td>\n",
       "    </tr>\n",
       "    <tr>\n",
       "      <th>21</th>\n",
       "      <td>Sen. Bernie Sanders of Vermont announced his s...</td>\n",
       "    </tr>\n",
       "  </tbody>\n",
       "</table>\n",
       "</div>"
      ],
      "text/plain": [
       "                                                 text\n",
       "0   The subject of sex is far more complicated tha...\n",
       "1   Joe Biden kissed Barack Obama on the cheek as ...\n",
       "2   It is ironic that during a moment when politic...\n",
       "3   Asked this week why he didn’t describe himself...\n",
       "4   Vice President Biden, in a new poll, scored th...\n",
       "5   It’s always tough to get a former vice preside...\n",
       "6   When President Trump signed an executive order...\n",
       "7   Six years after announcing their “gladness” th...\n",
       "8   It’s the Cold War horror, frozen in history, t...\n",
       "9   Former vice president Joe Biden, who is mullin...\n",
       "10  Joe Biden is looking for his next big thing.\\n...\n",
       "11  Angered over the federal government’s lopsided...\n",
       "12  Just weeks ago on Meet the Press, Bernie Sande...\n",
       "13  Bernie Sanders is part of a Jewish cabal plott...\n",
       "14  This is a breaking story — please stay tuned t...\n",
       "15  In April, video surfaced of a man who identifi...\n",
       "16  Many politicians spend much of their political...\n",
       "17  Sen. Bernie Sanders of Vermont speaks to the D...\n",
       "18  Some pundits are lamenting the end of the Bern...\n",
       "19  Sen. Bernie Sanders and former Secretary of St...\n",
       "20  Watch Bernie Sanders don’t wear a mask in his ...\n",
       "21  Sen. Bernie Sanders of Vermont announced his s..."
      ]
     },
     "execution_count": 22,
     "metadata": {},
     "output_type": "execute_result"
    }
   ],
   "source": [
    "fake_biden = pd.read_csv('./Grover-Fakes/fake_Grove_articles_biden2.csv')\n",
    "\n",
    "fake_bernie = pd.read_csv('./Grover-Fakes/fake_Grove_articles_bernie1.csv')\n",
    "\n",
    "fake_biden = fake_biden['text'].reset_index().drop('index', axis = 1)\n",
    "\n",
    "fake_bernie= fake_bernie['text'].reset_index().drop('index', axis = 1)\n",
    "\n",
    "fake_biden = pd.concat([fake_biden, fake_bernie]).reset_index()\n",
    "\n",
    "fake_biden.drop('index', axis = 1)"
   ]
  },
  {
   "cell_type": "code",
   "execution_count": 23,
   "metadata": {},
   "outputs": [],
   "source": [
    "fakes = pd.concat([fake_putin, fake_trump])"
   ]
  },
  {
   "cell_type": "code",
   "execution_count": 24,
   "metadata": {},
   "outputs": [],
   "source": [
    "fakes = pd.concat([fakes, fake_biden])"
   ]
  },
  {
   "cell_type": "code",
   "execution_count": 25,
   "metadata": {},
   "outputs": [
    {
     "data": {
      "text/html": [
       "<div>\n",
       "<style scoped>\n",
       "    .dataframe tbody tr th:only-of-type {\n",
       "        vertical-align: middle;\n",
       "    }\n",
       "\n",
       "    .dataframe tbody tr th {\n",
       "        vertical-align: top;\n",
       "    }\n",
       "\n",
       "    .dataframe thead th {\n",
       "        text-align: right;\n",
       "    }\n",
       "</style>\n",
       "<table border=\"1\" class=\"dataframe\">\n",
       "  <thead>\n",
       "    <tr style=\"text-align: right;\">\n",
       "      <th></th>\n",
       "      <th>text</th>\n",
       "      <th>index</th>\n",
       "    </tr>\n",
       "  </thead>\n",
       "  <tbody>\n",
       "    <tr>\n",
       "      <th>0</th>\n",
       "      <td>Vladimir Putin’s regime has created a complex ...</td>\n",
       "      <td>NaN</td>\n",
       "    </tr>\n",
       "    <tr>\n",
       "      <th>1</th>\n",
       "      <td>Vladimir Putin spent part of Friday listening ...</td>\n",
       "      <td>NaN</td>\n",
       "    </tr>\n",
       "    <tr>\n",
       "      <th>2</th>\n",
       "      <td>Military strategist Peter W. Singer has had hi...</td>\n",
       "      <td>NaN</td>\n",
       "    </tr>\n",
       "    <tr>\n",
       "      <th>3</th>\n",
       "      <td>Do the Russians look forward to continued frie...</td>\n",
       "      <td>NaN</td>\n",
       "    </tr>\n",
       "    <tr>\n",
       "      <th>4</th>\n",
       "      <td>Faced with mounting pressure from the U.S. adm...</td>\n",
       "      <td>NaN</td>\n",
       "    </tr>\n",
       "    <tr>\n",
       "      <th>5</th>\n",
       "      <td>Vladimir Putin, who has ruled Russia since 200...</td>\n",
       "      <td>NaN</td>\n",
       "    </tr>\n",
       "    <tr>\n",
       "      <th>6</th>\n",
       "      <td>Russia’s Vladimir Putin is accused of conspiri...</td>\n",
       "      <td>NaN</td>\n",
       "    </tr>\n",
       "    <tr>\n",
       "      <th>0</th>\n",
       "      <td>The White House is actively searching for a re...</td>\n",
       "      <td>0.0</td>\n",
       "    </tr>\n",
       "    <tr>\n",
       "      <th>1</th>\n",
       "      <td>Back in the 1920s, Mr. Trump was just a teenag...</td>\n",
       "      <td>1.0</td>\n",
       "    </tr>\n",
       "    <tr>\n",
       "      <th>2</th>\n",
       "      <td>President Donald Trump is upset with the media...</td>\n",
       "      <td>2.0</td>\n",
       "    </tr>\n",
       "    <tr>\n",
       "      <th>3</th>\n",
       "      <td>Army Chief of Staff Gen. Mark Milley, who also...</td>\n",
       "      <td>3.0</td>\n",
       "    </tr>\n",
       "    <tr>\n",
       "      <th>4</th>\n",
       "      <td>At a dinner on Saturday night, President Trump...</td>\n",
       "      <td>0.0</td>\n",
       "    </tr>\n",
       "    <tr>\n",
       "      <th>5</th>\n",
       "      <td>President Donald Trump made clear in testimony...</td>\n",
       "      <td>1.0</td>\n",
       "    </tr>\n",
       "    <tr>\n",
       "      <th>6</th>\n",
       "      <td>On April 22, 2017, Donald Trump met with South...</td>\n",
       "      <td>2.0</td>\n",
       "    </tr>\n",
       "    <tr>\n",
       "      <th>7</th>\n",
       "      <td>I have signed the Abolish Minimum Wage Act. — ...</td>\n",
       "      <td>3.0</td>\n",
       "    </tr>\n",
       "    <tr>\n",
       "      <th>0</th>\n",
       "      <td>The subject of sex is far more complicated tha...</td>\n",
       "      <td>0.0</td>\n",
       "    </tr>\n",
       "    <tr>\n",
       "      <th>1</th>\n",
       "      <td>Joe Biden kissed Barack Obama on the cheek as ...</td>\n",
       "      <td>1.0</td>\n",
       "    </tr>\n",
       "    <tr>\n",
       "      <th>2</th>\n",
       "      <td>It is ironic that during a moment when politic...</td>\n",
       "      <td>2.0</td>\n",
       "    </tr>\n",
       "    <tr>\n",
       "      <th>3</th>\n",
       "      <td>Asked this week why he didn’t describe himself...</td>\n",
       "      <td>3.0</td>\n",
       "    </tr>\n",
       "    <tr>\n",
       "      <th>4</th>\n",
       "      <td>Vice President Biden, in a new poll, scored th...</td>\n",
       "      <td>4.0</td>\n",
       "    </tr>\n",
       "    <tr>\n",
       "      <th>5</th>\n",
       "      <td>It’s always tough to get a former vice preside...</td>\n",
       "      <td>5.0</td>\n",
       "    </tr>\n",
       "    <tr>\n",
       "      <th>6</th>\n",
       "      <td>When President Trump signed an executive order...</td>\n",
       "      <td>6.0</td>\n",
       "    </tr>\n",
       "    <tr>\n",
       "      <th>7</th>\n",
       "      <td>Six years after announcing their “gladness” th...</td>\n",
       "      <td>7.0</td>\n",
       "    </tr>\n",
       "    <tr>\n",
       "      <th>8</th>\n",
       "      <td>It’s the Cold War horror, frozen in history, t...</td>\n",
       "      <td>8.0</td>\n",
       "    </tr>\n",
       "    <tr>\n",
       "      <th>9</th>\n",
       "      <td>Former vice president Joe Biden, who is mullin...</td>\n",
       "      <td>9.0</td>\n",
       "    </tr>\n",
       "    <tr>\n",
       "      <th>10</th>\n",
       "      <td>Joe Biden is looking for his next big thing.\\n...</td>\n",
       "      <td>10.0</td>\n",
       "    </tr>\n",
       "    <tr>\n",
       "      <th>11</th>\n",
       "      <td>Angered over the federal government’s lopsided...</td>\n",
       "      <td>0.0</td>\n",
       "    </tr>\n",
       "    <tr>\n",
       "      <th>12</th>\n",
       "      <td>Just weeks ago on Meet the Press, Bernie Sande...</td>\n",
       "      <td>1.0</td>\n",
       "    </tr>\n",
       "    <tr>\n",
       "      <th>13</th>\n",
       "      <td>Bernie Sanders is part of a Jewish cabal plott...</td>\n",
       "      <td>2.0</td>\n",
       "    </tr>\n",
       "    <tr>\n",
       "      <th>14</th>\n",
       "      <td>This is a breaking story — please stay tuned t...</td>\n",
       "      <td>3.0</td>\n",
       "    </tr>\n",
       "    <tr>\n",
       "      <th>15</th>\n",
       "      <td>In April, video surfaced of a man who identifi...</td>\n",
       "      <td>4.0</td>\n",
       "    </tr>\n",
       "    <tr>\n",
       "      <th>16</th>\n",
       "      <td>Many politicians spend much of their political...</td>\n",
       "      <td>5.0</td>\n",
       "    </tr>\n",
       "    <tr>\n",
       "      <th>17</th>\n",
       "      <td>Sen. Bernie Sanders of Vermont speaks to the D...</td>\n",
       "      <td>6.0</td>\n",
       "    </tr>\n",
       "    <tr>\n",
       "      <th>18</th>\n",
       "      <td>Some pundits are lamenting the end of the Bern...</td>\n",
       "      <td>7.0</td>\n",
       "    </tr>\n",
       "    <tr>\n",
       "      <th>19</th>\n",
       "      <td>Sen. Bernie Sanders and former Secretary of St...</td>\n",
       "      <td>8.0</td>\n",
       "    </tr>\n",
       "    <tr>\n",
       "      <th>20</th>\n",
       "      <td>Watch Bernie Sanders don’t wear a mask in his ...</td>\n",
       "      <td>9.0</td>\n",
       "    </tr>\n",
       "    <tr>\n",
       "      <th>21</th>\n",
       "      <td>Sen. Bernie Sanders of Vermont announced his s...</td>\n",
       "      <td>10.0</td>\n",
       "    </tr>\n",
       "  </tbody>\n",
       "</table>\n",
       "</div>"
      ],
      "text/plain": [
       "                                                 text  index\n",
       "0   Vladimir Putin’s regime has created a complex ...    NaN\n",
       "1   Vladimir Putin spent part of Friday listening ...    NaN\n",
       "2   Military strategist Peter W. Singer has had hi...    NaN\n",
       "3   Do the Russians look forward to continued frie...    NaN\n",
       "4   Faced with mounting pressure from the U.S. adm...    NaN\n",
       "5   Vladimir Putin, who has ruled Russia since 200...    NaN\n",
       "6   Russia’s Vladimir Putin is accused of conspiri...    NaN\n",
       "0   The White House is actively searching for a re...    0.0\n",
       "1   Back in the 1920s, Mr. Trump was just a teenag...    1.0\n",
       "2   President Donald Trump is upset with the media...    2.0\n",
       "3   Army Chief of Staff Gen. Mark Milley, who also...    3.0\n",
       "4   At a dinner on Saturday night, President Trump...    0.0\n",
       "5   President Donald Trump made clear in testimony...    1.0\n",
       "6   On April 22, 2017, Donald Trump met with South...    2.0\n",
       "7   I have signed the Abolish Minimum Wage Act. — ...    3.0\n",
       "0   The subject of sex is far more complicated tha...    0.0\n",
       "1   Joe Biden kissed Barack Obama on the cheek as ...    1.0\n",
       "2   It is ironic that during a moment when politic...    2.0\n",
       "3   Asked this week why he didn’t describe himself...    3.0\n",
       "4   Vice President Biden, in a new poll, scored th...    4.0\n",
       "5   It’s always tough to get a former vice preside...    5.0\n",
       "6   When President Trump signed an executive order...    6.0\n",
       "7   Six years after announcing their “gladness” th...    7.0\n",
       "8   It’s the Cold War horror, frozen in history, t...    8.0\n",
       "9   Former vice president Joe Biden, who is mullin...    9.0\n",
       "10  Joe Biden is looking for his next big thing.\\n...   10.0\n",
       "11  Angered over the federal government’s lopsided...    0.0\n",
       "12  Just weeks ago on Meet the Press, Bernie Sande...    1.0\n",
       "13  Bernie Sanders is part of a Jewish cabal plott...    2.0\n",
       "14  This is a breaking story — please stay tuned t...    3.0\n",
       "15  In April, video surfaced of a man who identifi...    4.0\n",
       "16  Many politicians spend much of their political...    5.0\n",
       "17  Sen. Bernie Sanders of Vermont speaks to the D...    6.0\n",
       "18  Some pundits are lamenting the end of the Bern...    7.0\n",
       "19  Sen. Bernie Sanders and former Secretary of St...    8.0\n",
       "20  Watch Bernie Sanders don’t wear a mask in his ...    9.0\n",
       "21  Sen. Bernie Sanders of Vermont announced his s...   10.0"
      ]
     },
     "execution_count": 25,
     "metadata": {},
     "output_type": "execute_result"
    }
   ],
   "source": [
    "fakes"
   ]
  },
  {
   "cell_type": "code",
   "execution_count": 90,
   "metadata": {},
   "outputs": [],
   "source": [
    "fakes = fakes.drop('index', axis =1).reset_index()"
   ]
  },
  {
   "cell_type": "code",
   "execution_count": 91,
   "metadata": {},
   "outputs": [
    {
     "data": {
      "text/html": [
       "<div>\n",
       "<style scoped>\n",
       "    .dataframe tbody tr th:only-of-type {\n",
       "        vertical-align: middle;\n",
       "    }\n",
       "\n",
       "    .dataframe tbody tr th {\n",
       "        vertical-align: top;\n",
       "    }\n",
       "\n",
       "    .dataframe thead th {\n",
       "        text-align: right;\n",
       "    }\n",
       "</style>\n",
       "<table border=\"1\" class=\"dataframe\">\n",
       "  <thead>\n",
       "    <tr style=\"text-align: right;\">\n",
       "      <th></th>\n",
       "      <th>index</th>\n",
       "      <th>text</th>\n",
       "      <th>label</th>\n",
       "    </tr>\n",
       "  </thead>\n",
       "  <tbody>\n",
       "    <tr>\n",
       "      <th>0</th>\n",
       "      <td>0</td>\n",
       "      <td>Vladimir Putin’s regime has created a complex ...</td>\n",
       "      <td>1.0</td>\n",
       "    </tr>\n",
       "    <tr>\n",
       "      <th>1</th>\n",
       "      <td>1</td>\n",
       "      <td>Vladimir Putin spent part of Friday listening ...</td>\n",
       "      <td>1.0</td>\n",
       "    </tr>\n",
       "    <tr>\n",
       "      <th>2</th>\n",
       "      <td>2</td>\n",
       "      <td>Military strategist Peter W. Singer has had hi...</td>\n",
       "      <td>1.0</td>\n",
       "    </tr>\n",
       "    <tr>\n",
       "      <th>3</th>\n",
       "      <td>3</td>\n",
       "      <td>Do the Russians look forward to continued frie...</td>\n",
       "      <td>1.0</td>\n",
       "    </tr>\n",
       "    <tr>\n",
       "      <th>4</th>\n",
       "      <td>4</td>\n",
       "      <td>Faced with mounting pressure from the U.S. adm...</td>\n",
       "      <td>1.0</td>\n",
       "    </tr>\n",
       "    <tr>\n",
       "      <th>5</th>\n",
       "      <td>5</td>\n",
       "      <td>Vladimir Putin, who has ruled Russia since 200...</td>\n",
       "      <td>1.0</td>\n",
       "    </tr>\n",
       "    <tr>\n",
       "      <th>6</th>\n",
       "      <td>6</td>\n",
       "      <td>Russia’s Vladimir Putin is accused of conspiri...</td>\n",
       "      <td>1.0</td>\n",
       "    </tr>\n",
       "    <tr>\n",
       "      <th>7</th>\n",
       "      <td>7</td>\n",
       "      <td>The White House is actively searching for a re...</td>\n",
       "      <td>1.0</td>\n",
       "    </tr>\n",
       "    <tr>\n",
       "      <th>8</th>\n",
       "      <td>8</td>\n",
       "      <td>Back in the 1920s, Mr. Trump was just a teenag...</td>\n",
       "      <td>1.0</td>\n",
       "    </tr>\n",
       "    <tr>\n",
       "      <th>9</th>\n",
       "      <td>9</td>\n",
       "      <td>President Donald Trump is upset with the media...</td>\n",
       "      <td>1.0</td>\n",
       "    </tr>\n",
       "    <tr>\n",
       "      <th>10</th>\n",
       "      <td>10</td>\n",
       "      <td>Army Chief of Staff Gen. Mark Milley, who also...</td>\n",
       "      <td>1.0</td>\n",
       "    </tr>\n",
       "    <tr>\n",
       "      <th>11</th>\n",
       "      <td>11</td>\n",
       "      <td>At a dinner on Saturday night, President Trump...</td>\n",
       "      <td>1.0</td>\n",
       "    </tr>\n",
       "    <tr>\n",
       "      <th>12</th>\n",
       "      <td>12</td>\n",
       "      <td>President Donald Trump made clear in testimony...</td>\n",
       "      <td>1.0</td>\n",
       "    </tr>\n",
       "    <tr>\n",
       "      <th>13</th>\n",
       "      <td>13</td>\n",
       "      <td>On April 22, 2017, Donald Trump met with South...</td>\n",
       "      <td>1.0</td>\n",
       "    </tr>\n",
       "    <tr>\n",
       "      <th>14</th>\n",
       "      <td>14</td>\n",
       "      <td>I have signed the Abolish Minimum Wage Act. — ...</td>\n",
       "      <td>1.0</td>\n",
       "    </tr>\n",
       "    <tr>\n",
       "      <th>15</th>\n",
       "      <td>0</td>\n",
       "      <td>The subject of sex is far more complicated tha...</td>\n",
       "      <td>NaN</td>\n",
       "    </tr>\n",
       "    <tr>\n",
       "      <th>16</th>\n",
       "      <td>1</td>\n",
       "      <td>Joe Biden kissed Barack Obama on the cheek as ...</td>\n",
       "      <td>NaN</td>\n",
       "    </tr>\n",
       "    <tr>\n",
       "      <th>17</th>\n",
       "      <td>2</td>\n",
       "      <td>It is ironic that during a moment when politic...</td>\n",
       "      <td>NaN</td>\n",
       "    </tr>\n",
       "    <tr>\n",
       "      <th>18</th>\n",
       "      <td>3</td>\n",
       "      <td>Asked this week why he didn’t describe himself...</td>\n",
       "      <td>NaN</td>\n",
       "    </tr>\n",
       "    <tr>\n",
       "      <th>19</th>\n",
       "      <td>4</td>\n",
       "      <td>Vice President Biden, in a new poll, scored th...</td>\n",
       "      <td>NaN</td>\n",
       "    </tr>\n",
       "    <tr>\n",
       "      <th>20</th>\n",
       "      <td>5</td>\n",
       "      <td>It’s always tough to get a former vice preside...</td>\n",
       "      <td>NaN</td>\n",
       "    </tr>\n",
       "    <tr>\n",
       "      <th>21</th>\n",
       "      <td>6</td>\n",
       "      <td>When President Trump signed an executive order...</td>\n",
       "      <td>NaN</td>\n",
       "    </tr>\n",
       "    <tr>\n",
       "      <th>22</th>\n",
       "      <td>7</td>\n",
       "      <td>Six years after announcing their “gladness” th...</td>\n",
       "      <td>NaN</td>\n",
       "    </tr>\n",
       "    <tr>\n",
       "      <th>23</th>\n",
       "      <td>8</td>\n",
       "      <td>It’s the Cold War horror, frozen in history, t...</td>\n",
       "      <td>NaN</td>\n",
       "    </tr>\n",
       "    <tr>\n",
       "      <th>24</th>\n",
       "      <td>9</td>\n",
       "      <td>Former vice president Joe Biden, who is mullin...</td>\n",
       "      <td>NaN</td>\n",
       "    </tr>\n",
       "    <tr>\n",
       "      <th>25</th>\n",
       "      <td>10</td>\n",
       "      <td>Joe Biden is looking for his next big thing.\\n...</td>\n",
       "      <td>NaN</td>\n",
       "    </tr>\n",
       "    <tr>\n",
       "      <th>26</th>\n",
       "      <td>11</td>\n",
       "      <td>Angered over the federal government’s lopsided...</td>\n",
       "      <td>NaN</td>\n",
       "    </tr>\n",
       "    <tr>\n",
       "      <th>27</th>\n",
       "      <td>12</td>\n",
       "      <td>Just weeks ago on Meet the Press, Bernie Sande...</td>\n",
       "      <td>NaN</td>\n",
       "    </tr>\n",
       "    <tr>\n",
       "      <th>28</th>\n",
       "      <td>13</td>\n",
       "      <td>Bernie Sanders is part of a Jewish cabal plott...</td>\n",
       "      <td>NaN</td>\n",
       "    </tr>\n",
       "    <tr>\n",
       "      <th>29</th>\n",
       "      <td>14</td>\n",
       "      <td>This is a breaking story — please stay tuned t...</td>\n",
       "      <td>NaN</td>\n",
       "    </tr>\n",
       "    <tr>\n",
       "      <th>30</th>\n",
       "      <td>15</td>\n",
       "      <td>In April, video surfaced of a man who identifi...</td>\n",
       "      <td>NaN</td>\n",
       "    </tr>\n",
       "    <tr>\n",
       "      <th>31</th>\n",
       "      <td>16</td>\n",
       "      <td>Many politicians spend much of their political...</td>\n",
       "      <td>NaN</td>\n",
       "    </tr>\n",
       "    <tr>\n",
       "      <th>32</th>\n",
       "      <td>17</td>\n",
       "      <td>Sen. Bernie Sanders of Vermont speaks to the D...</td>\n",
       "      <td>NaN</td>\n",
       "    </tr>\n",
       "    <tr>\n",
       "      <th>33</th>\n",
       "      <td>18</td>\n",
       "      <td>Some pundits are lamenting the end of the Bern...</td>\n",
       "      <td>NaN</td>\n",
       "    </tr>\n",
       "    <tr>\n",
       "      <th>34</th>\n",
       "      <td>19</td>\n",
       "      <td>Sen. Bernie Sanders and former Secretary of St...</td>\n",
       "      <td>NaN</td>\n",
       "    </tr>\n",
       "    <tr>\n",
       "      <th>35</th>\n",
       "      <td>20</td>\n",
       "      <td>Watch Bernie Sanders don’t wear a mask in his ...</td>\n",
       "      <td>NaN</td>\n",
       "    </tr>\n",
       "    <tr>\n",
       "      <th>36</th>\n",
       "      <td>21</td>\n",
       "      <td>Sen. Bernie Sanders of Vermont announced his s...</td>\n",
       "      <td>NaN</td>\n",
       "    </tr>\n",
       "  </tbody>\n",
       "</table>\n",
       "</div>"
      ],
      "text/plain": [
       "    index                                               text  label\n",
       "0       0  Vladimir Putin’s regime has created a complex ...    1.0\n",
       "1       1  Vladimir Putin spent part of Friday listening ...    1.0\n",
       "2       2  Military strategist Peter W. Singer has had hi...    1.0\n",
       "3       3  Do the Russians look forward to continued frie...    1.0\n",
       "4       4  Faced with mounting pressure from the U.S. adm...    1.0\n",
       "5       5  Vladimir Putin, who has ruled Russia since 200...    1.0\n",
       "6       6  Russia’s Vladimir Putin is accused of conspiri...    1.0\n",
       "7       7  The White House is actively searching for a re...    1.0\n",
       "8       8  Back in the 1920s, Mr. Trump was just a teenag...    1.0\n",
       "9       9  President Donald Trump is upset with the media...    1.0\n",
       "10     10  Army Chief of Staff Gen. Mark Milley, who also...    1.0\n",
       "11     11  At a dinner on Saturday night, President Trump...    1.0\n",
       "12     12  President Donald Trump made clear in testimony...    1.0\n",
       "13     13  On April 22, 2017, Donald Trump met with South...    1.0\n",
       "14     14  I have signed the Abolish Minimum Wage Act. — ...    1.0\n",
       "15      0  The subject of sex is far more complicated tha...    NaN\n",
       "16      1  Joe Biden kissed Barack Obama on the cheek as ...    NaN\n",
       "17      2  It is ironic that during a moment when politic...    NaN\n",
       "18      3  Asked this week why he didn’t describe himself...    NaN\n",
       "19      4  Vice President Biden, in a new poll, scored th...    NaN\n",
       "20      5  It’s always tough to get a former vice preside...    NaN\n",
       "21      6  When President Trump signed an executive order...    NaN\n",
       "22      7  Six years after announcing their “gladness” th...    NaN\n",
       "23      8  It’s the Cold War horror, frozen in history, t...    NaN\n",
       "24      9  Former vice president Joe Biden, who is mullin...    NaN\n",
       "25     10  Joe Biden is looking for his next big thing.\\n...    NaN\n",
       "26     11  Angered over the federal government’s lopsided...    NaN\n",
       "27     12  Just weeks ago on Meet the Press, Bernie Sande...    NaN\n",
       "28     13  Bernie Sanders is part of a Jewish cabal plott...    NaN\n",
       "29     14  This is a breaking story — please stay tuned t...    NaN\n",
       "30     15  In April, video surfaced of a man who identifi...    NaN\n",
       "31     16  Many politicians spend much of their political...    NaN\n",
       "32     17  Sen. Bernie Sanders of Vermont speaks to the D...    NaN\n",
       "33     18  Some pundits are lamenting the end of the Bern...    NaN\n",
       "34     19  Sen. Bernie Sanders and former Secretary of St...    NaN\n",
       "35     20  Watch Bernie Sanders don’t wear a mask in his ...    NaN\n",
       "36     21  Sen. Bernie Sanders of Vermont announced his s...    NaN"
      ]
     },
     "execution_count": 91,
     "metadata": {},
     "output_type": "execute_result"
    }
   ],
   "source": [
    "fakes"
   ]
  },
  {
   "cell_type": "code",
   "execution_count": 92,
   "metadata": {},
   "outputs": [
    {
     "data": {
      "text/html": [
       "<div>\n",
       "<style scoped>\n",
       "    .dataframe tbody tr th:only-of-type {\n",
       "        vertical-align: middle;\n",
       "    }\n",
       "\n",
       "    .dataframe tbody tr th {\n",
       "        vertical-align: top;\n",
       "    }\n",
       "\n",
       "    .dataframe thead th {\n",
       "        text-align: right;\n",
       "    }\n",
       "</style>\n",
       "<table border=\"1\" class=\"dataframe\">\n",
       "  <thead>\n",
       "    <tr style=\"text-align: right;\">\n",
       "      <th></th>\n",
       "      <th>text</th>\n",
       "      <th>label</th>\n",
       "    </tr>\n",
       "  </thead>\n",
       "  <tbody>\n",
       "    <tr>\n",
       "      <th>0</th>\n",
       "      <td>Vladimir Putin’s regime has created a complex ...</td>\n",
       "      <td>1.0</td>\n",
       "    </tr>\n",
       "    <tr>\n",
       "      <th>1</th>\n",
       "      <td>Vladimir Putin spent part of Friday listening ...</td>\n",
       "      <td>1.0</td>\n",
       "    </tr>\n",
       "    <tr>\n",
       "      <th>2</th>\n",
       "      <td>Military strategist Peter W. Singer has had hi...</td>\n",
       "      <td>1.0</td>\n",
       "    </tr>\n",
       "    <tr>\n",
       "      <th>3</th>\n",
       "      <td>Do the Russians look forward to continued frie...</td>\n",
       "      <td>1.0</td>\n",
       "    </tr>\n",
       "    <tr>\n",
       "      <th>4</th>\n",
       "      <td>Faced with mounting pressure from the U.S. adm...</td>\n",
       "      <td>1.0</td>\n",
       "    </tr>\n",
       "    <tr>\n",
       "      <th>5</th>\n",
       "      <td>Vladimir Putin, who has ruled Russia since 200...</td>\n",
       "      <td>1.0</td>\n",
       "    </tr>\n",
       "    <tr>\n",
       "      <th>6</th>\n",
       "      <td>Russia’s Vladimir Putin is accused of conspiri...</td>\n",
       "      <td>1.0</td>\n",
       "    </tr>\n",
       "    <tr>\n",
       "      <th>7</th>\n",
       "      <td>The White House is actively searching for a re...</td>\n",
       "      <td>1.0</td>\n",
       "    </tr>\n",
       "    <tr>\n",
       "      <th>8</th>\n",
       "      <td>Back in the 1920s, Mr. Trump was just a teenag...</td>\n",
       "      <td>1.0</td>\n",
       "    </tr>\n",
       "    <tr>\n",
       "      <th>9</th>\n",
       "      <td>President Donald Trump is upset with the media...</td>\n",
       "      <td>1.0</td>\n",
       "    </tr>\n",
       "    <tr>\n",
       "      <th>10</th>\n",
       "      <td>Army Chief of Staff Gen. Mark Milley, who also...</td>\n",
       "      <td>1.0</td>\n",
       "    </tr>\n",
       "    <tr>\n",
       "      <th>11</th>\n",
       "      <td>At a dinner on Saturday night, President Trump...</td>\n",
       "      <td>1.0</td>\n",
       "    </tr>\n",
       "    <tr>\n",
       "      <th>12</th>\n",
       "      <td>President Donald Trump made clear in testimony...</td>\n",
       "      <td>1.0</td>\n",
       "    </tr>\n",
       "    <tr>\n",
       "      <th>13</th>\n",
       "      <td>On April 22, 2017, Donald Trump met with South...</td>\n",
       "      <td>1.0</td>\n",
       "    </tr>\n",
       "    <tr>\n",
       "      <th>14</th>\n",
       "      <td>I have signed the Abolish Minimum Wage Act. — ...</td>\n",
       "      <td>1.0</td>\n",
       "    </tr>\n",
       "    <tr>\n",
       "      <th>15</th>\n",
       "      <td>The subject of sex is far more complicated tha...</td>\n",
       "      <td>NaN</td>\n",
       "    </tr>\n",
       "    <tr>\n",
       "      <th>16</th>\n",
       "      <td>Joe Biden kissed Barack Obama on the cheek as ...</td>\n",
       "      <td>NaN</td>\n",
       "    </tr>\n",
       "    <tr>\n",
       "      <th>17</th>\n",
       "      <td>It is ironic that during a moment when politic...</td>\n",
       "      <td>NaN</td>\n",
       "    </tr>\n",
       "    <tr>\n",
       "      <th>18</th>\n",
       "      <td>Asked this week why he didn’t describe himself...</td>\n",
       "      <td>NaN</td>\n",
       "    </tr>\n",
       "    <tr>\n",
       "      <th>19</th>\n",
       "      <td>Vice President Biden, in a new poll, scored th...</td>\n",
       "      <td>NaN</td>\n",
       "    </tr>\n",
       "    <tr>\n",
       "      <th>20</th>\n",
       "      <td>It’s always tough to get a former vice preside...</td>\n",
       "      <td>NaN</td>\n",
       "    </tr>\n",
       "    <tr>\n",
       "      <th>21</th>\n",
       "      <td>When President Trump signed an executive order...</td>\n",
       "      <td>NaN</td>\n",
       "    </tr>\n",
       "    <tr>\n",
       "      <th>22</th>\n",
       "      <td>Six years after announcing their “gladness” th...</td>\n",
       "      <td>NaN</td>\n",
       "    </tr>\n",
       "    <tr>\n",
       "      <th>23</th>\n",
       "      <td>It’s the Cold War horror, frozen in history, t...</td>\n",
       "      <td>NaN</td>\n",
       "    </tr>\n",
       "    <tr>\n",
       "      <th>24</th>\n",
       "      <td>Former vice president Joe Biden, who is mullin...</td>\n",
       "      <td>NaN</td>\n",
       "    </tr>\n",
       "    <tr>\n",
       "      <th>25</th>\n",
       "      <td>Joe Biden is looking for his next big thing.\\n...</td>\n",
       "      <td>NaN</td>\n",
       "    </tr>\n",
       "    <tr>\n",
       "      <th>26</th>\n",
       "      <td>Angered over the federal government’s lopsided...</td>\n",
       "      <td>NaN</td>\n",
       "    </tr>\n",
       "    <tr>\n",
       "      <th>27</th>\n",
       "      <td>Just weeks ago on Meet the Press, Bernie Sande...</td>\n",
       "      <td>NaN</td>\n",
       "    </tr>\n",
       "    <tr>\n",
       "      <th>28</th>\n",
       "      <td>Bernie Sanders is part of a Jewish cabal plott...</td>\n",
       "      <td>NaN</td>\n",
       "    </tr>\n",
       "    <tr>\n",
       "      <th>29</th>\n",
       "      <td>This is a breaking story — please stay tuned t...</td>\n",
       "      <td>NaN</td>\n",
       "    </tr>\n",
       "    <tr>\n",
       "      <th>30</th>\n",
       "      <td>In April, video surfaced of a man who identifi...</td>\n",
       "      <td>NaN</td>\n",
       "    </tr>\n",
       "    <tr>\n",
       "      <th>31</th>\n",
       "      <td>Many politicians spend much of their political...</td>\n",
       "      <td>NaN</td>\n",
       "    </tr>\n",
       "    <tr>\n",
       "      <th>32</th>\n",
       "      <td>Sen. Bernie Sanders of Vermont speaks to the D...</td>\n",
       "      <td>NaN</td>\n",
       "    </tr>\n",
       "    <tr>\n",
       "      <th>33</th>\n",
       "      <td>Some pundits are lamenting the end of the Bern...</td>\n",
       "      <td>NaN</td>\n",
       "    </tr>\n",
       "    <tr>\n",
       "      <th>34</th>\n",
       "      <td>Sen. Bernie Sanders and former Secretary of St...</td>\n",
       "      <td>NaN</td>\n",
       "    </tr>\n",
       "    <tr>\n",
       "      <th>35</th>\n",
       "      <td>Watch Bernie Sanders don’t wear a mask in his ...</td>\n",
       "      <td>NaN</td>\n",
       "    </tr>\n",
       "    <tr>\n",
       "      <th>36</th>\n",
       "      <td>Sen. Bernie Sanders of Vermont announced his s...</td>\n",
       "      <td>NaN</td>\n",
       "    </tr>\n",
       "  </tbody>\n",
       "</table>\n",
       "</div>"
      ],
      "text/plain": [
       "                                                 text  label\n",
       "0   Vladimir Putin’s regime has created a complex ...    1.0\n",
       "1   Vladimir Putin spent part of Friday listening ...    1.0\n",
       "2   Military strategist Peter W. Singer has had hi...    1.0\n",
       "3   Do the Russians look forward to continued frie...    1.0\n",
       "4   Faced with mounting pressure from the U.S. adm...    1.0\n",
       "5   Vladimir Putin, who has ruled Russia since 200...    1.0\n",
       "6   Russia’s Vladimir Putin is accused of conspiri...    1.0\n",
       "7   The White House is actively searching for a re...    1.0\n",
       "8   Back in the 1920s, Mr. Trump was just a teenag...    1.0\n",
       "9   President Donald Trump is upset with the media...    1.0\n",
       "10  Army Chief of Staff Gen. Mark Milley, who also...    1.0\n",
       "11  At a dinner on Saturday night, President Trump...    1.0\n",
       "12  President Donald Trump made clear in testimony...    1.0\n",
       "13  On April 22, 2017, Donald Trump met with South...    1.0\n",
       "14  I have signed the Abolish Minimum Wage Act. — ...    1.0\n",
       "15  The subject of sex is far more complicated tha...    NaN\n",
       "16  Joe Biden kissed Barack Obama on the cheek as ...    NaN\n",
       "17  It is ironic that during a moment when politic...    NaN\n",
       "18  Asked this week why he didn’t describe himself...    NaN\n",
       "19  Vice President Biden, in a new poll, scored th...    NaN\n",
       "20  It’s always tough to get a former vice preside...    NaN\n",
       "21  When President Trump signed an executive order...    NaN\n",
       "22  Six years after announcing their “gladness” th...    NaN\n",
       "23  It’s the Cold War horror, frozen in history, t...    NaN\n",
       "24  Former vice president Joe Biden, who is mullin...    NaN\n",
       "25  Joe Biden is looking for his next big thing.\\n...    NaN\n",
       "26  Angered over the federal government’s lopsided...    NaN\n",
       "27  Just weeks ago on Meet the Press, Bernie Sande...    NaN\n",
       "28  Bernie Sanders is part of a Jewish cabal plott...    NaN\n",
       "29  This is a breaking story — please stay tuned t...    NaN\n",
       "30  In April, video surfaced of a man who identifi...    NaN\n",
       "31  Many politicians spend much of their political...    NaN\n",
       "32  Sen. Bernie Sanders of Vermont speaks to the D...    NaN\n",
       "33  Some pundits are lamenting the end of the Bern...    NaN\n",
       "34  Sen. Bernie Sanders and former Secretary of St...    NaN\n",
       "35  Watch Bernie Sanders don’t wear a mask in his ...    NaN\n",
       "36  Sen. Bernie Sanders of Vermont announced his s...    NaN"
      ]
     },
     "execution_count": 92,
     "metadata": {},
     "output_type": "execute_result"
    }
   ],
   "source": [
    "fakes.drop('index', axis = 1)"
   ]
  },
  {
   "cell_type": "code",
   "execution_count": 93,
   "metadata": {},
   "outputs": [],
   "source": [
    "fakes['label'] = 1"
   ]
  },
  {
   "cell_type": "code",
   "execution_count": 95,
   "metadata": {},
   "outputs": [],
   "source": [
    "fakes = fakes.drop('index', axis = 1)"
   ]
  },
  {
   "cell_type": "code",
   "execution_count": 97,
   "metadata": {},
   "outputs": [],
   "source": [
    "fakes.to_csv('grover_fakes.csv')"
   ]
  },
  {
   "cell_type": "markdown",
   "metadata": {},
   "source": [
    "# GPT-2 Fakes Lemmatization\n"
   ]
  },
  {
   "cell_type": "code",
   "execution_count": 14,
   "metadata": {},
   "outputs": [],
   "source": [
    "from spacy.lang.en.stop_words import STOP_WORDS\n",
    "import spacy\n",
    "import regex as re"
   ]
  },
  {
   "cell_type": "code",
   "execution_count": 15,
   "metadata": {},
   "outputs": [],
   "source": [
    "nlp = spacy.load('en_core_web_md')"
   ]
  },
  {
   "cell_type": "code",
   "execution_count": 16,
   "metadata": {},
   "outputs": [],
   "source": [
    "def text_preprocessor(text):\n",
    "    text = re.sub('<[^>]*>', '', text) # Effectively removes HTML markup tags\n",
    "    emoticons = re.findall('(?::|;|=)(?:-)?(?:\\)|\\(|D|P)', text)\n",
    "    text = re.sub('[\\W]+', ' ', text.lower()) + ' '.join(emoticons).replace('-', '')\n",
    "    \n",
    "    doc = nlp(text)\n",
    "    #Lemmatization, which is the process of reducing a word to its lemma or dictionary form. \n",
    "    #For example, the word run is the lemma for the words runs, ran, and running.\n",
    "    text = ' '.join([token.lemma_ for token in doc if token.text not in STOP_WORDS])\n",
    "    return text"
   ]
  },
  {
   "cell_type": "code",
   "execution_count": 26,
   "metadata": {},
   "outputs": [],
   "source": [
    "gpt_fakes = pd.read_csv('./GPT2-Model-Fakes/gpt2_gentext_20210512_133139.txt', sep = '*',names = ['text'])\n"
   ]
  },
  {
   "cell_type": "code",
   "execution_count": 27,
   "metadata": {},
   "outputs": [
    {
     "data": {
      "text/plain": [
       "Index(['President Putin’s children, also known as GRU soldiers, allegedly trained the militants to kill US and Westerners, the BBC reports.A police officer looks at damage following a double car bomb attack in the Al-Zahraa neighborhood of the Homs, Syria, on February 21, 2016. The ISIS militant group ISIS has claimed responsibility for the attack that left at least one person dead and three more wounded. The officer was visiting the scene of another deadly attack in the city, which left at least one person dead and three more wounded.Syrians wait near the Turkish border during clashes between ISIS and Kurdish armed groups in Kobani, Syria, on Thursday, February 23. The photo was taken in Sanliurfa, Turkey. ISIS militants disguised as Kurdish security forces infiltrated Kobani on Thursday and killed \"many civilians,\" said a spokesman for the Kurds in Kobani. Syrians wait near the Turkish border during clashes between ISIS and Kurdish armed groups in Kobani, Syria, on Thursday, February 23. The photo was taken in Sanliurfa, Turkey. ISIS militants disguised as Kurdish security forces infiltrated Kobani on Thursday and killed \"many civilians,\" said a spokesman for the Kurds in Kobani',\n",
       "       'President Putin, the KGB officer who had infiltrated the Trump campaign, had recently visited Paris to consider a political option for stopping Trump from becoming the Republican presidential nominee.A small group of FBI agents sat around a conference table and reviewed the evidence gathered thus far. Each agent was given the opportunity to make or detract from the case for moving forward. At the end of the meeting, it was the consensus of the group to pursue a criminal investigation.Most people have heard about the CounterPunch article and response to which is largely accurate because it was the first paragraph that really changed the outcome of the election. The article has since been retracted, but the important parts remain the same.The article has been retracted or amended several times before; the most recent time being by Leaving the European Union, the original article was incorrectly cited by the media as evidence that EU migrants were evil. The fact that it was originally reported by the media as an attack on the FBI does not mean that the original article was a total surprise. It was a small step in a larger direction that would have involved much more than just sending the warning flag to all EU migrants.The original article has since been independently corrected and is better explained as an explanation for',\n",
       "       'President Putin has said the United States should be the primary target of an international coalition fighting ISIS.Heavy smoke rises in Kobani following an airstrike by the U.S.-led coalition on October 18.Heavy smoke rises in Kobani following an airstrike by the U.S.-led coalition on October 18.Kurdish fighters walk to positions as they combat ISIS forces in Kobani on Sunday, October 19.Kurdish fighters walk to positions as they combat ISIS forces in Kobani on Sunday, October 19.ISIS militants stand near the site of an airstrike near the Turkey-Syria border on Thursday, October 23. The United States and several Arab nations have been bombing ISIS targets in Syria to take out the militant group's ability to command, train and resupply its fighters.ISIS militants stand near the site of an airstrike near the Turkey-Syria border on Thursday, October 23. The United States and several Arab nations have been bombing ISIS targets in Syria to take out the militant group's ability to command, train and resupply its fighters.Iraqi special forces search a house in Jurf al-Sakhar, Iraq, on Thursday, October 30, after retaking',\n",
       "       'President Putin and the KGB. There is an implicit radicalism in what Putin is saying. It’s evident from the way he says it and the way he describes the Russian people. Yet there is also an implicit racism in what Putin is saying. Black lives matter to Putin and to the Kremlin. It is why the committee that met to discuss Confederate monuments said they did not want to beleaguered by the incident. And it is why the son of a prominent South Carolina state senator who grew up in Jackson, S.C., say he do[s] not like the symbol. Senator Marco Rubio, who is not committed, put out a statement saying: I’m going to continue to tell people who I am, what I’m for. There are two types of politicians: those who want to be politicians and those who do not. There are policy differences between us, and there are partisan ones. I do think there are differences between us, and that is a mistake. We are both Americans. But we are also creatures of habit and change. We must choose our battles. We do. We must.There are policy differences',\n",
       "       'President Putin. the old guard at the Oval Office would have been very unhappy with what he was hearing. But he quickly learned that he had to toe a more pro-active political alliance with the new Obama approach. He learned that Obama had decided that his most effective strategy was to use executive orders to implement various congressional policies. These commissions would then work their magic pulling the strings to execute those policies.Eventually, the Obama campaign realized that the best strategy was always to keep the policy items separate from the policy agenda, and to allow for different branch activity during the term. So the policy items were moved to a more perfunctory sub-headline. The 2014 Republican presidential nomination is being considered an example of a \"pen-and-phone\" approach to governing. It is an interesting one at that, given the back-room arrangement Obama has with Speaker John Boehner to craft a controversial tax plan. But it is probably the most conservative and least interventionist presidential policy in modern times.The Tea Party emerged as a political alternative to the Republican Party in 2010, when conservative Republicans replaced moderate Republicans in the House and in the Senate. By 2011, the Tea Party was mostly gone, but the anti-government',\n",
       "       'President Putin said the United States should take \"appropriate measures\" to counter what he regards as pressure from outside groups such as the Islamic State, which has killed dozens of Americans in Syria and Iraq. \"We do not tolerate this behavior. We do not allow this kind of behavior to continue,\" Putin said. State Department spokeswoman Jen Psaki said the U.S. was \"grumbling about a country that has so much power over our lives.\" Rather than fiddle with the Second Amendment, Putin said the government should delegate to the police all gun rights decisions. \"The government should always be the judge of whether a decision is justified,\" Putin said. \"But we're not going to delegate the right to bear arms to someone who has made a violent decision.\" Pressed on the possibility that the shooting was linked to the new report on the Clinton Foundation, Putin said: “I don’t think so. It’s not like he made a donation, it’s not a contribution of wealth, it’s not a corruption scandal, it’s not a personal attack, it’s not a scandal, it’s just a theory',\n",
       "       'President Putin said at the meeting, attended by top advisers from both parties and some 200 top advisers from across the political spectrum. Disappointed that his party did not take the necessary votes to pass a budget and, despite appealing to a large number of Republican voters, Paul was unable to pass a single bill. Worse, Paul emerged from the meeting with a stinging sense of injustice. He was recalled the next day and, after being called to the Senate floor, was forced to resign. Not to be outdone, he and his wife, Sherry, took to Twitter to take to their leaders' side. A post shared by Ari Fleischer (@aglemp3) on May 8, 2016 at 6:52pm PDT Ari Fleischer is somebody who is kind, kind people who I am. I do agree with Paul on a lot of issues, but I am not a fan of the FBI. I do not agree with Hillary on a great deal of issues. But I do agree with Hillary on one thing: Hillary Clinton is a liar and a thief. And if you think nothing's changed in the past fifty years, ask Hillary. She'll tell you the answer.\"On crime:',\n",
       "       'President Putin. Putin, who is widely despised in Russia for supporting the far-right nationalist Svoboda uprisings that swept the country in 2014, was due to meet with Trump and Paul Ryan. But after the speaker announced that he was going to hold a closed primary, the Paul Ryan ticket was forced to abandon the presidential race. Now that Paul Ryan has announced his intentions to run for president, it's no surprise that the Texas Republican is taking a page out of George W. Bush's playbook on foreign policy. \"I have great admiration for George W. Bush for realizing that our foreign policy is not always about our home countries, our allies, and our foes, but our own country,\" Paul said. \"Our foreign policy is not always in the interest of the United States, our friends, or our partners.\" It's a tough line to walk when talking about the fundamental differences between the two parties. Both parties now seem to be taking a more active role in choosing their nominees, with the Trump administration picking pick up steam quickly as of late. Meanwhile, the Democratic Party is in trouble, with 45 percent disapproval compared to last year. this is the first time in 40 years that the two',\n",
       "       'President Putin said: “If it weren’t for the KGB, I’m sure that it would have gone through some changes in leadership.” Several senior officials say they were unaware of the existence of the Pravda website until it was revealed. Charles Schumer, the No. 2 Democrat in the Senate, has filed complaints with the FBI about the allegations against him. Representatives Adam Schiff, the No. 2 Democrat in the Senate, and Chris Coons, the No. 6 Republican in the House, have all said they were not aware of the allegations. Schiff and Coons have both denied doing any of the things that led to the allegations. But the other two Republicans in the House, Mark Kirk of Illinois, and Jeff Fortenberry, who is African American, are Hispanic Republicans who have spent the last few months trying toiteball Democrats. Fortenberry, who is not a Democrat, has said he is not a Democrat, but he is interested in the possibility of Hispanic outreach in the wake of President Obama’s controversial executive order on immigration from Texas. “I do not support the order. It is a very controversial order, and I am not a Democrat',\n",
       "       'President Putin will meet with US President Donald Trump on Thursday, the Kremlin said. The Kremlin, which is leading the effort to connect the two countries, also said that Syrian government troops were seen leaving the Kobani area on a recent evening. The Syrian Air Force made a major contribution to the fight against ISIS, the Syrian Observatory for Human Rights reported. The Syrian Air Force made a major contribution to the fight against ISIS, the Syrian Observatory for Human Rights reported. A picture taken from Turkey shows smoke rising after ISIS militants fired mortar shells toward an area controlled by Syrian Kurdish fighters near Kobani on Monday, June 25. A picture taken from Turkey shows smoke rising after ISIS militants fired mortar shells toward an area controlled by Syrian Kurdish fighters near Kobani on Monday, June 25. A Kurdish Peshmerga fighter is escorted to safety by Kurdish Peshmerga fighters at the site of an airstrike near Kirkuk, Iraq, on Wednesday, July 9. A Kurdish Peshmerga fighter is escorted to safety by Kurdish Peshmerga fighters at the site of an airstrike near Kirkuk, Iraq, on Wednesday, July 9. Syrian Kurds, backed by a U.S.-led air campaign',\n",
       "       'President Putin, who has increasingly chafed under his party's low poll ratings, will face off with Trump, who also called the shots in Cleveland. \"Mr. Trump's presence has made this an immeasurably more substantive race,\" The New York Times wrote in an editorial Wednesday calling on Trump to ignore calls to leave the race, which was shared by the Trump campaign. The enthusiasm of his supporters \"should be a wake-up call to leaders of both parties. They are missing something big about their own members' priorities, and their mood. \"Still, Trump's lead in national polls has barely budged over the past week, and his refusal to hold a press conference ahead of the debate had the better of the candidates a chance to present themselves. \"He (Cruz) seemed to be enjoying the contest,\" said Neil Sroka, the communications director of the organization that recruits Cruz supporters. More broadly, the delegate math was generally good for the Trump/Cruz dynamic, with about a 3-to-1 split between the two candidates. Most polls showed Cruz ahead in Texas, where he has been campaigning for weeks. But after the debate, he held steady in Arizona, where he won',\n",
       "       'President Putin’s agents, who were on the third day of their investigation, found evidence of a conspiracy between Trump associates and a foreign power, the report said. The men discussed a plan to target the U.S. intelligence community, the report said. When the conspirators tried to flee the room, one of the suspects fired a shot that killed one American, the report said. The gunman then turned the gun on himself and tried to flee the room, the report said. When the FBI checked the man in the vehicle again on the next day, the gunman claimed he had not fired a shot during the attempted escape. The account did not match up with what FBI agents were trying to determine from video feeds from the scene, the report said. The FBI said it was able to determine the identity of the suspect(s) and the description of the suspect vehicle by reviewing photos and video recordings, the FBI said. BREAKING : The father of John F. Kennedy has spoken out against the killing of the US senator. He said that the assassin's actions were not surprising:',\n",
       "       'I don’t think he was thinking about it this early on. He was just following the script. “I’m going*\\n\\nPresident Putin’s agent in Moscow, did not respond to a request for comment. Handicapping the Hispanic vote for 2016 GOPers: The last Texas Republican to occupy the Oval Office, George W. Bush, took 49 percent of the state’s Hispanic vote in his 2004 presidential re-election, setting a relatively high bar for the handful of Texas-born or -raised Republicans who might be hoping to follow in his footsteps in 2016. Republican presidential aspirants with ties to the Lone Star State must figure out how to hold the GOP base and attract conservative Hispanics if they want to be successful in Texas, political observers say. So how do the party's four most prominent Texas affiliated might-be candidates — former Gov. Rick Perry; Jeb Bush, the son and brother of two former presidents from the state; Texas’ junior U.S. senator, Ted Cruz; and U.S. Sen. Rand Paul of Kentucky — stack up in the early going? For Republicans to avoid a repeat of 2012, when presidential nominee Mitt Romney took only 27 percent of the Hispanic vote nationwide, they need to nominate a conservative candidate who can go into Hispanic communities and truly connect'],\n",
       "      dtype='object')"
      ]
     },
     "execution_count": 27,
     "metadata": {},
     "output_type": "execute_result"
    }
   ],
   "source": [
    "gpt_fakes.index"
   ]
  },
  {
   "cell_type": "code",
   "execution_count": 28,
   "metadata": {},
   "outputs": [],
   "source": [
    "gpt = gpt_fakes.reset_index()"
   ]
  },
  {
   "cell_type": "code",
   "execution_count": 29,
   "metadata": {},
   "outputs": [
    {
     "data": {
      "text/html": [
       "<div>\n",
       "<style scoped>\n",
       "    .dataframe tbody tr th:only-of-type {\n",
       "        vertical-align: middle;\n",
       "    }\n",
       "\n",
       "    .dataframe tbody tr th {\n",
       "        vertical-align: top;\n",
       "    }\n",
       "\n",
       "    .dataframe thead th {\n",
       "        text-align: right;\n",
       "    }\n",
       "</style>\n",
       "<table border=\"1\" class=\"dataframe\">\n",
       "  <thead>\n",
       "    <tr style=\"text-align: right;\">\n",
       "      <th></th>\n",
       "      <th>index</th>\n",
       "      <th>text</th>\n",
       "    </tr>\n",
       "  </thead>\n",
       "  <tbody>\n",
       "    <tr>\n",
       "      <th>0</th>\n",
       "      <td>President Putin’s children, also known as GRU ...</td>\n",
       "      <td>NaN</td>\n",
       "    </tr>\n",
       "    <tr>\n",
       "      <th>1</th>\n",
       "      <td>President Putin, the KGB officer who had infil...</td>\n",
       "      <td>NaN</td>\n",
       "    </tr>\n",
       "    <tr>\n",
       "      <th>2</th>\n",
       "      <td>President Putin has said the United States sho...</td>\n",
       "      <td>President Putin’s \"fighters\" in Syria. The New...</td>\n",
       "    </tr>\n",
       "    <tr>\n",
       "      <th>3</th>\n",
       "      <td>President Putin and the KGB. There is an impli...</td>\n",
       "      <td>NaN</td>\n",
       "    </tr>\n",
       "    <tr>\n",
       "      <th>4</th>\n",
       "      <td>President Putin. the old guard at the Oval Off...</td>\n",
       "      <td>NaN</td>\n",
       "    </tr>\n",
       "    <tr>\n",
       "      <th>5</th>\n",
       "      <td>President Putin said the United States should ...</td>\n",
       "      <td>President Putin and the KGB. I’m going to cont...</td>\n",
       "    </tr>\n",
       "    <tr>\n",
       "      <th>6</th>\n",
       "      <td>President Putin said at the meeting, attended ...</td>\n",
       "      <td>NaN</td>\n",
       "    </tr>\n",
       "    <tr>\n",
       "      <th>7</th>\n",
       "      <td>President Putin. Putin, who is widely despised...</td>\n",
       "      <td>NaN</td>\n",
       "    </tr>\n",
       "    <tr>\n",
       "      <th>8</th>\n",
       "      <td>President Putin said: “If it weren’t for the K...</td>\n",
       "      <td>NaN</td>\n",
       "    </tr>\n",
       "    <tr>\n",
       "      <th>9</th>\n",
       "      <td>President Putin will meet with US President Do...</td>\n",
       "      <td>NaN</td>\n",
       "    </tr>\n",
       "    <tr>\n",
       "      <th>10</th>\n",
       "      <td>President Putin, who has increasingly chafed u...</td>\n",
       "      <td>NaN</td>\n",
       "    </tr>\n",
       "    <tr>\n",
       "      <th>11</th>\n",
       "      <td>President Putin’s agents, who were on the thir...</td>\n",
       "      <td>NaN</td>\n",
       "    </tr>\n",
       "    <tr>\n",
       "      <th>12</th>\n",
       "      <td>I don’t think he was thinking about it this ea...</td>\n",
       "      <td>NaN</td>\n",
       "    </tr>\n",
       "  </tbody>\n",
       "</table>\n",
       "</div>"
      ],
      "text/plain": [
       "                                                index  \\\n",
       "0   President Putin’s children, also known as GRU ...   \n",
       "1   President Putin, the KGB officer who had infil...   \n",
       "2   President Putin has said the United States sho...   \n",
       "3   President Putin and the KGB. There is an impli...   \n",
       "4   President Putin. the old guard at the Oval Off...   \n",
       "5   President Putin said the United States should ...   \n",
       "6   President Putin said at the meeting, attended ...   \n",
       "7   President Putin. Putin, who is widely despised...   \n",
       "8   President Putin said: “If it weren’t for the K...   \n",
       "9   President Putin will meet with US President Do...   \n",
       "10  President Putin, who has increasingly chafed u...   \n",
       "11  President Putin’s agents, who were on the thir...   \n",
       "12  I don’t think he was thinking about it this ea...   \n",
       "\n",
       "                                                 text  \n",
       "0                                                 NaN  \n",
       "1                                                 NaN  \n",
       "2   President Putin’s \"fighters\" in Syria. The New...  \n",
       "3                                                 NaN  \n",
       "4                                                 NaN  \n",
       "5   President Putin and the KGB. I’m going to cont...  \n",
       "6                                                 NaN  \n",
       "7                                                 NaN  \n",
       "8                                                 NaN  \n",
       "9                                                 NaN  \n",
       "10                                                NaN  \n",
       "11                                                NaN  \n",
       "12                                                NaN  "
      ]
     },
     "execution_count": 29,
     "metadata": {},
     "output_type": "execute_result"
    }
   ],
   "source": [
    "gpt"
   ]
  },
  {
   "cell_type": "code",
   "execution_count": 30,
   "metadata": {
    "scrolled": true
   },
   "outputs": [],
   "source": [
    "gpt.text= gpt['index']"
   ]
  },
  {
   "cell_type": "code",
   "execution_count": 31,
   "metadata": {},
   "outputs": [],
   "source": [
    "gpt = gpt['text']"
   ]
  },
  {
   "cell_type": "code",
   "execution_count": 38,
   "metadata": {},
   "outputs": [],
   "source": [
    "gpt = pd.DataFrame(gpt.apply(text_preprocessor))"
   ]
  },
  {
   "cell_type": "code",
   "execution_count": 56,
   "metadata": {},
   "outputs": [
    {
     "ename": "NameError",
     "evalue": "name 'gpt' is not defined",
     "output_type": "error",
     "traceback": [
      "\u001b[0;31m---------------------------------------------------------------------------\u001b[0m",
      "\u001b[0;31mNameError\u001b[0m                                 Traceback (most recent call last)",
      "\u001b[0;32m<ipython-input-56-2574a73afef6>\u001b[0m in \u001b[0;36m<module>\u001b[0;34m\u001b[0m\n\u001b[0;32m----> 1\u001b[0;31m \u001b[0mgpt\u001b[0m\u001b[0;34m[\u001b[0m\u001b[0;34m'label'\u001b[0m\u001b[0;34m]\u001b[0m \u001b[0;34m=\u001b[0m \u001b[0;34m'FAKE'\u001b[0m\u001b[0;34m\u001b[0m\u001b[0m\n\u001b[0m",
      "\u001b[0;31mNameError\u001b[0m: name 'gpt' is not defined"
     ]
    }
   ],
   "source": [
    "gpt['label'] = 'FAKE'"
   ]
  },
  {
   "cell_type": "code",
   "execution_count": null,
   "metadata": {},
   "outputs": [],
   "source": []
  },
  {
   "cell_type": "markdown",
   "metadata": {},
   "source": [
    "## Lematization of Data"
   ]
  },
  {
   "cell_type": "code",
   "execution_count": 22,
   "metadata": {},
   "outputs": [],
   "source": [
    "keep_n = 320"
   ]
  },
  {
   "cell_type": "code",
   "execution_count": null,
   "metadata": {},
   "outputs": [],
   "source": [
    "fakes['text'] = fakes.text.apply(text_preprocessor)"
   ]
  },
  {
   "cell_type": "code",
   "execution_count": null,
   "metadata": {},
   "outputs": [],
   "source": [
    "fakes"
   ]
  },
  {
   "cell_type": "code",
   "execution_count": 45,
   "metadata": {},
   "outputs": [],
   "source": [
    "import pandas as pd\n",
    "news = 'Bethlehem, West Bank, Gaza and Jerusalem (CNN)At least 10 Palestinians were killed Friday by Israeli forces during violent clashes in towns and cities across the West Bank, the Gaza-based Palestinian Health Ministry said in a statement, as sirens continued to blare all day across southern Israel, indicating another day of ceaseless rocket fire from Gaza. The violence in the occupied West Bank marks the largest number of people killed in a single day there for years.The Palestinian Red Crescent said Palestinians had been targeted with live ammunition, as well as rubber bullets and teargas. Israel has continued this week a bombing operation the government says is targeting Palestinian militants in Gaza, which has killed at least 126 people, including at least 31 children and 20 women, the Palestinian Health Ministry reported Friday. At least 950 people, including at least 254 children, have sustained injuries as a result of Israeli airstrikes, the Health Ministry added. According to the Palestinian Health Ministry, more than 500 Palestinians have been injured since clashes erupted earlier this week. The majority of those injured on Friday were \"shot by live ammunition,\" the Health Ministry added.'\n",
    "\n",
    "cnn = pd.DataFrame()\n",
    "cnn['text'] = [news]\n"
   ]
  },
  {
   "cell_type": "code",
   "execution_count": 46,
   "metadata": {},
   "outputs": [
    {
     "data": {
      "text/html": [
       "<div>\n",
       "<style scoped>\n",
       "    .dataframe tbody tr th:only-of-type {\n",
       "        vertical-align: middle;\n",
       "    }\n",
       "\n",
       "    .dataframe tbody tr th {\n",
       "        vertical-align: top;\n",
       "    }\n",
       "\n",
       "    .dataframe thead th {\n",
       "        text-align: right;\n",
       "    }\n",
       "</style>\n",
       "<table border=\"1\" class=\"dataframe\">\n",
       "  <thead>\n",
       "    <tr style=\"text-align: right;\">\n",
       "      <th></th>\n",
       "      <th>text</th>\n",
       "    </tr>\n",
       "  </thead>\n",
       "  <tbody>\n",
       "    <tr>\n",
       "      <th>0</th>\n",
       "      <td>Bethlehem, West Bank, Gaza and Jerusalem (CNN)...</td>\n",
       "    </tr>\n",
       "  </tbody>\n",
       "</table>\n",
       "</div>"
      ],
      "text/plain": [
       "                                                text\n",
       "0  Bethlehem, West Bank, Gaza and Jerusalem (CNN)..."
      ]
     },
     "execution_count": 46,
     "metadata": {},
     "output_type": "execute_result"
    }
   ],
   "source": [
    "cnn"
   ]
  },
  {
   "cell_type": "code",
   "execution_count": 49,
   "metadata": {},
   "outputs": [],
   "source": [
    "onion = 'CHICAGO—Lauding the 22-year-old for her commitment to serving her community, sources confirmed Friday that local Taco Bell employee Nicole Cortez has had a far greater positive impact on people’s lives than any firefighter ever could. “Sure, there are plenty of firefighters who have rushed into a burning building to save a child, but that service pales in comparison to that of the woman whose Baja Blasts and Crunchwrap Supremes has brought smiles to thousands,” said Gail J. McGovern, president of the American Red Cross, who issued a statement announcing that Cortez would be honored in a ceremony at the organization’s headquarters in Washington D.C. in recognition of her outstanding tenacity, strength, and courage, all of which outshone the average employee of a local fire department. “Over the span of her 3-year career, Nicole has never failed to stuff generous handfuls of hot sauce packets into the bottom of a customer’s bag. That’s far more consequential than a firefighter preventing a home from going up in flames. She works night and day, ready to answer the call in the event a car enters the 24-hour drive-through window. It’s often a thankless job, but she’s a true hero.” At press time, community members were grieving after reports Cortez had perished due to smoke inhalation from a burning burrito.'\n",
    "\n",
    "onion_df = pd.DataFrame()\n",
    "onion_df['text'] = [onion]"
   ]
  },
  {
   "cell_type": "code",
   "execution_count": 50,
   "metadata": {},
   "outputs": [],
   "source": [
    "onion_df['text'] = onion_df.text.apply(text_preprocessor)"
   ]
  },
  {
   "cell_type": "code",
   "execution_count": 53,
   "metadata": {},
   "outputs": [],
   "source": [
    "onion = tokenizer.texts_to_sequences(onion_df.text)"
   ]
  },
  {
   "cell_type": "code",
   "execution_count": 54,
   "metadata": {},
   "outputs": [],
   "source": [
    "padded_onion = pad_sequences(onion, maxlen = keep_n, padding='post')"
   ]
  },
  {
   "cell_type": "code",
   "execution_count": 47,
   "metadata": {},
   "outputs": [],
   "source": [
    "cnn = tokenizer.texts_to_sequences(cnn)"
   ]
  },
  {
   "cell_type": "code",
   "execution_count": 48,
   "metadata": {},
   "outputs": [
    {
     "data": {
      "text/plain": [
       "[[]]"
      ]
     },
     "execution_count": 48,
     "metadata": {},
     "output_type": "execute_result"
    }
   ],
   "source": [
    "cnn"
   ]
  },
  {
   "cell_type": "code",
   "execution_count": 49,
   "metadata": {},
   "outputs": [],
   "source": [
    "padded_cnn = pad_sequences(cnn, maxlen = keep_n, padding = 'post')"
   ]
  },
  {
   "cell_type": "code",
   "execution_count": 50,
   "metadata": {},
   "outputs": [
    {
     "data": {
      "text/plain": [
       "array([0, 0, 0, 0, 0, 0, 0, 0, 0, 0, 0, 0, 0, 0, 0, 0, 0, 0, 0, 0, 0, 0,\n",
       "       0, 0, 0, 0, 0, 0, 0, 0, 0, 0, 0, 0, 0, 0, 0, 0, 0, 0, 0, 0, 0, 0,\n",
       "       0, 0, 0, 0, 0, 0, 0, 0, 0, 0, 0, 0, 0, 0, 0, 0, 0, 0, 0, 0, 0, 0,\n",
       "       0, 0, 0, 0, 0, 0, 0, 0, 0, 0, 0, 0, 0, 0, 0, 0, 0, 0, 0, 0, 0, 0,\n",
       "       0, 0, 0, 0, 0, 0, 0, 0, 0, 0, 0, 0, 0, 0, 0, 0, 0, 0, 0, 0, 0, 0,\n",
       "       0, 0, 0, 0, 0, 0, 0, 0, 0, 0, 0, 0, 0, 0, 0, 0, 0, 0, 0, 0, 0, 0,\n",
       "       0, 0, 0, 0, 0, 0, 0, 0, 0, 0, 0, 0, 0, 0, 0, 0, 0, 0, 0, 0, 0, 0,\n",
       "       0, 0, 0, 0, 0, 0, 0, 0, 0, 0, 0, 0, 0, 0, 0, 0, 0, 0, 0, 0, 0, 0,\n",
       "       0, 0, 0, 0, 0, 0, 0, 0, 0, 0, 0, 0, 0, 0, 0, 0, 0, 0, 0, 0, 0, 0,\n",
       "       0, 0, 0, 0, 0, 0, 0, 0, 0, 0, 0, 0, 0, 0, 0, 0, 0, 0, 0, 0, 0, 0,\n",
       "       0, 0, 0, 0, 0, 0, 0, 0, 0, 0, 0, 0, 0, 0, 0, 0, 0, 0, 0, 0, 0, 0,\n",
       "       0, 0, 0, 0, 0, 0, 0, 0, 0, 0, 0, 0, 0, 0, 0, 0, 0, 0, 0, 0, 0, 0,\n",
       "       0, 0, 0, 0, 0, 0, 0, 0, 0, 0, 0, 0, 0, 0, 0, 0, 0, 0, 0, 0, 0, 0,\n",
       "       0, 0, 0, 0, 0, 0, 0, 0, 0, 0, 0, 0, 0, 0, 0, 0, 0, 0, 0, 0, 0, 0,\n",
       "       0, 0, 0, 0, 0, 0, 0, 0, 0, 0, 0, 0], dtype=int32)"
      ]
     },
     "execution_count": 50,
     "metadata": {},
     "output_type": "execute_result"
    }
   ],
   "source": [
    "padded_cnn[0]"
   ]
  },
  {
   "cell_type": "markdown",
   "metadata": {},
   "source": [
    "## Tokenizing Fake Articles"
   ]
  },
  {
   "cell_type": "code",
   "execution_count": null,
   "metadata": {},
   "outputs": [],
   "source": [
    "#We apply our tokenizer to the new articles to get their representation using our models set of tokens\n",
    "text_sequences = tokenizer.texts_to_sequences(fakes.text)"
   ]
  },
  {
   "cell_type": "code",
   "execution_count": 40,
   "metadata": {},
   "outputs": [],
   "source": [
    "text_sequences2 = tokenizer.texts_to_sequences(gpt.text)"
   ]
  },
  {
   "cell_type": "code",
   "execution_count": null,
   "metadata": {},
   "outputs": [],
   "source": [
    "text_sequences"
   ]
  },
  {
   "cell_type": "code",
   "execution_count": 28,
   "metadata": {},
   "outputs": [],
   "source": [
    "from src.config import n_tokens, keep_n, embedding_dim"
   ]
  },
  {
   "cell_type": "code",
   "execution_count": null,
   "metadata": {},
   "outputs": [],
   "source": [
    "padded_sequences = pad_sequences(text_sequences, maxlen = keep_n, padding = 'post')"
   ]
  },
  {
   "cell_type": "code",
   "execution_count": 44,
   "metadata": {},
   "outputs": [],
   "source": [
    "padded_sequences2 = pad_sequences(text_sequences2, maxlen = keep_n, padding = 'post')"
   ]
  },
  {
   "cell_type": "code",
   "execution_count": null,
   "metadata": {},
   "outputs": [],
   "source": [
    "padded_sequences[0:2]"
   ]
  },
  {
   "cell_type": "markdown",
   "metadata": {},
   "source": [
    "# Making Predictions"
   ]
  },
  {
   "cell_type": "code",
   "execution_count": null,
   "metadata": {
    "scrolled": false
   },
   "outputs": [],
   "source": [
    "model.predict_classes(padded_sequences)"
   ]
  },
  {
   "cell_type": "code",
   "execution_count": null,
   "metadata": {},
   "outputs": [],
   "source": [
    "model2.predict_classes(padded_sequences)"
   ]
  },
  {
   "cell_type": "code",
   "execution_count": 45,
   "metadata": {},
   "outputs": [
    {
     "name": "stderr",
     "output_type": "stream",
     "text": [
      "/Users/javiercabrera/opt/anaconda3/lib/python3.8/site-packages/tensorflow/python/keras/engine/sequential.py:450: UserWarning: `model.predict_classes()` is deprecated and will be removed after 2021-01-01. Please use instead:* `np.argmax(model.predict(x), axis=-1)`,   if your model does multi-class classification   (e.g. if it uses a `softmax` last-layer activation).* `(model.predict(x) > 0.5).astype(\"int32\")`,   if your model does binary classification   (e.g. if it uses a `sigmoid` last-layer activation).\n",
      "  warnings.warn('`model.predict_classes()` is deprecated and '\n"
     ]
    }
   ],
   "source": [
    "pred_gpt2 = model.predict_classes(padded_sequences2)"
   ]
  },
  {
   "cell_type": "code",
   "execution_count": 47,
   "metadata": {},
   "outputs": [
    {
     "data": {
      "text/plain": [
       "array([[1],\n",
       "       [1],\n",
       "       [1],\n",
       "       [0],\n",
       "       [1],\n",
       "       [0],\n",
       "       [1],\n",
       "       [0],\n",
       "       [1],\n",
       "       [0],\n",
       "       [0],\n",
       "       [1],\n",
       "       [0]], dtype=int32)"
      ]
     },
     "execution_count": 47,
     "metadata": {},
     "output_type": "execute_result"
    }
   ],
   "source": [
    "model2.predict_classes(padded_sequences2)"
   ]
  },
  {
   "cell_type": "code",
   "execution_count": 57,
   "metadata": {},
   "outputs": [
    {
     "data": {
      "text/plain": [
       "(13, 320)"
      ]
     },
     "execution_count": 57,
     "metadata": {},
     "output_type": "execute_result"
    }
   ],
   "source": [
    "padded_sequences2.shape"
   ]
  },
  {
   "cell_type": "code",
   "execution_count": null,
   "metadata": {},
   "outputs": [],
   "source": [
    "one = [pred_gpt2 == 1]"
   ]
  },
  {
   "cell_type": "code",
   "execution_count": null,
   "metadata": {},
   "outputs": [],
   "source": [
    "one"
   ]
  },
  {
   "cell_type": "code",
   "execution_count": 29,
   "metadata": {},
   "outputs": [],
   "source": [
    "cnn_pred = model.predict_classes(padded_cnn)"
   ]
  },
  {
   "cell_type": "code",
   "execution_count": 67,
   "metadata": {},
   "outputs": [],
   "source": [
    "cnn2 = model2.predict_classes(padded_cnn)"
   ]
  },
  {
   "cell_type": "code",
   "execution_count": 20,
   "metadata": {},
   "outputs": [
    {
     "ename": "NameError",
     "evalue": "name 'cnn2' is not defined",
     "output_type": "error",
     "traceback": [
      "\u001b[0;31m---------------------------------------------------------------------------\u001b[0m",
      "\u001b[0;31mNameError\u001b[0m                                 Traceback (most recent call last)",
      "\u001b[0;32m<ipython-input-20-e8e6dada9921>\u001b[0m in \u001b[0;36m<module>\u001b[0;34m\u001b[0m\n\u001b[0;32m----> 1\u001b[0;31m \u001b[0mcnn2\u001b[0m\u001b[0;34m\u001b[0m\u001b[0m\n\u001b[0m",
      "\u001b[0;31mNameError\u001b[0m: name 'cnn2' is not defined"
     ]
    }
   ],
   "source": [
    "cnn2"
   ]
  },
  {
   "cell_type": "code",
   "execution_count": 29,
   "metadata": {},
   "outputs": [
    {
     "data": {
      "text/plain": [
       "array([[0]], dtype=int32)"
      ]
     },
     "execution_count": 29,
     "metadata": {},
     "output_type": "execute_result"
    }
   ],
   "source": [
    "model.predict_classes(padded_cnn)"
   ]
  },
  {
   "cell_type": "code",
   "execution_count": 71,
   "metadata": {},
   "outputs": [
    {
     "name": "stdout",
     "output_type": "stream",
     "text": [
      "[[1]]\n"
     ]
    }
   ],
   "source": [
    "print(model2.predict_classes(padded_onion))"
   ]
  },
  {
   "cell_type": "code",
   "execution_count": 61,
   "metadata": {},
   "outputs": [
    {
     "name": "stderr",
     "output_type": "stream",
     "text": [
      "/Users/javiercabrera/opt/anaconda3/lib/python3.8/site-packages/tensorflow/python/keras/engine/sequential.py:425: UserWarning: `model.predict_proba()` is deprecated and will be removed after 2021-01-01. Please use `model.predict()` instead.\n",
      "  warnings.warn('`model.predict_proba()` is deprecated and '\n"
     ]
    },
    {
     "data": {
      "text/plain": [
       "array([[0.9481555]], dtype=float32)"
      ]
     },
     "execution_count": 61,
     "metadata": {},
     "output_type": "execute_result"
    }
   ],
   "source": [
    "model2.predict_proba(padded_onion)"
   ]
  },
  {
   "cell_type": "code",
   "execution_count": null,
   "metadata": {},
   "outputs": [],
   "source": []
  }
 ],
 "metadata": {
  "kernelspec": {
   "display_name": "Python 3",
   "language": "python",
   "name": "python3"
  },
  "language_info": {
   "codemirror_mode": {
    "name": "ipython",
    "version": 3
   },
   "file_extension": ".py",
   "mimetype": "text/x-python",
   "name": "python",
   "nbconvert_exporter": "python",
   "pygments_lexer": "ipython3",
   "version": "3.8.10"
  }
 },
 "nbformat": 4,
 "nbformat_minor": 4
}
